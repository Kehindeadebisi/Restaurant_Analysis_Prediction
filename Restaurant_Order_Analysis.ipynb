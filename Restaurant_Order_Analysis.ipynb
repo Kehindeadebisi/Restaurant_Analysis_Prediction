{
 "cells": [
  {
   "cell_type": "markdown",
   "id": "a1221d4f",
   "metadata": {},
   "source": [
    "Amazon Business Research Analyst Dataset\n",
    "\n",
    "Objectives:\n",
    "Analysing a Restaurant\n",
    "\n",
    "What food customers like the most\n",
    "Does weather influence what people eat\n",
    "What is the preferred mode of transportation used by the restaurant\n",
    "What time do people pick their orders most?\n",
    "Which days are the busiest in the restaurant [which days do customers visit the restaurant the most]\n",
    "\n",
    "Machine learning scenario:\n",
    "\n",
    "Mrs Ndidi ordered meals at the amazon restaurant on Thursday morning. Predict how long before she received her order if the delivery man used motorcycle bearing in mind that the customer stays 9.760928 km away from the restaurant?"
   ]
  },
  {
   "cell_type": "markdown",
   "id": "afaa07ed",
   "metadata": {},
   "source": [
    "importing libraries"
   ]
  },
  {
   "cell_type": "code",
   "execution_count": 4,
   "id": "dde649a5",
   "metadata": {},
   "outputs": [],
   "source": [
    "import pandas as pd\n",
    "import matplotlib.pyplot as plt\n",
    "import seaborn as sns"
   ]
  },
  {
   "cell_type": "code",
   "execution_count": 5,
   "id": "c838be06",
   "metadata": {},
   "outputs": [],
   "source": [
    "restaurant=pd.read_csv('cleaned_test.csv')"
   ]
  },
  {
   "cell_type": "code",
   "execution_count": 6,
   "id": "1d43d628",
   "metadata": {
    "scrolled": true
   },
   "outputs": [
    {
     "data": {
      "text/html": [
       "<div>\n",
       "<style scoped>\n",
       "    .dataframe tbody tr th:only-of-type {\n",
       "        vertical-align: middle;\n",
       "    }\n",
       "\n",
       "    .dataframe tbody tr th {\n",
       "        vertical-align: top;\n",
       "    }\n",
       "\n",
       "    .dataframe thead th {\n",
       "        text-align: right;\n",
       "    }\n",
       "</style>\n",
       "<table border=\"1\" class=\"dataframe\">\n",
       "  <thead>\n",
       "    <tr style=\"text-align: right;\">\n",
       "      <th></th>\n",
       "      <th>ID</th>\n",
       "      <th>Delivery_person_ID</th>\n",
       "      <th>Delivery_person_Age</th>\n",
       "      <th>Delivery_person_Ratings</th>\n",
       "      <th>Restaurant_latitude</th>\n",
       "      <th>Restaurant_longitude</th>\n",
       "      <th>Delivery_location_latitude</th>\n",
       "      <th>Delivery_location_longitude</th>\n",
       "      <th>Order_Date</th>\n",
       "      <th>Time_Orderd</th>\n",
       "      <th>Time_Order_picked</th>\n",
       "      <th>Weather</th>\n",
       "      <th>Road_traffic_density</th>\n",
       "      <th>Vehicle_condition</th>\n",
       "      <th>Type_of_order</th>\n",
       "      <th>Type_of_vehicle</th>\n",
       "      <th>multiple_deliveries</th>\n",
       "      <th>Festival</th>\n",
       "      <th>City</th>\n",
       "      <th>Name:</th>\n",
       "    </tr>\n",
       "  </thead>\n",
       "  <tbody>\n",
       "    <tr>\n",
       "      <th>0</th>\n",
       "      <td>0x2318</td>\n",
       "      <td>COIMBRES13DEL01</td>\n",
       "      <td>NaN</td>\n",
       "      <td>NaN</td>\n",
       "      <td>11.003669</td>\n",
       "      <td>76.976494</td>\n",
       "      <td>11.043669</td>\n",
       "      <td>77.016494</td>\n",
       "      <td>30-03-2022</td>\n",
       "      <td>NaN</td>\n",
       "      <td>15:05</td>\n",
       "      <td>NaN</td>\n",
       "      <td>NaN</td>\n",
       "      <td>3</td>\n",
       "      <td>Drinks</td>\n",
       "      <td>electric_scooter</td>\n",
       "      <td>1.0</td>\n",
       "      <td>No</td>\n",
       "      <td>Metropolitian</td>\n",
       "      <td>object</td>\n",
       "    </tr>\n",
       "    <tr>\n",
       "      <th>1</th>\n",
       "      <td>0x3474</td>\n",
       "      <td>BANGRES15DEL01</td>\n",
       "      <td>28.0</td>\n",
       "      <td>4.6</td>\n",
       "      <td>12.975377</td>\n",
       "      <td>77.696664</td>\n",
       "      <td>13.085377</td>\n",
       "      <td>77.806664</td>\n",
       "      <td>29-03-2022</td>\n",
       "      <td>20:30</td>\n",
       "      <td>20:35</td>\n",
       "      <td>Windy</td>\n",
       "      <td>Jam</td>\n",
       "      <td>0</td>\n",
       "      <td>Snack</td>\n",
       "      <td>motorcycle</td>\n",
       "      <td>1.0</td>\n",
       "      <td>No</td>\n",
       "      <td>Metropolitian</td>\n",
       "      <td>object</td>\n",
       "    </tr>\n",
       "    <tr>\n",
       "      <th>2</th>\n",
       "      <td>0x9420</td>\n",
       "      <td>JAPRES09DEL03</td>\n",
       "      <td>23.0</td>\n",
       "      <td>4.5</td>\n",
       "      <td>26.911378</td>\n",
       "      <td>75.789034</td>\n",
       "      <td>27.001378</td>\n",
       "      <td>75.879034</td>\n",
       "      <td>10-03-2022</td>\n",
       "      <td>19:35</td>\n",
       "      <td>19:45</td>\n",
       "      <td>Stormy</td>\n",
       "      <td>Jam</td>\n",
       "      <td>0</td>\n",
       "      <td>Drinks</td>\n",
       "      <td>motorcycle</td>\n",
       "      <td>1.0</td>\n",
       "      <td>No</td>\n",
       "      <td>Metropolitian</td>\n",
       "      <td>object</td>\n",
       "    </tr>\n",
       "    <tr>\n",
       "      <th>3</th>\n",
       "      <td>0x72ee</td>\n",
       "      <td>JAPRES07DEL03</td>\n",
       "      <td>21.0</td>\n",
       "      <td>4.8</td>\n",
       "      <td>26.766536</td>\n",
       "      <td>75.837333</td>\n",
       "      <td>26.856536</td>\n",
       "      <td>75.927333</td>\n",
       "      <td>02-04-2022</td>\n",
       "      <td>17:15</td>\n",
       "      <td>17:20</td>\n",
       "      <td>Fog</td>\n",
       "      <td>Medium</td>\n",
       "      <td>1</td>\n",
       "      <td>Meal</td>\n",
       "      <td>scooter</td>\n",
       "      <td>1.0</td>\n",
       "      <td>No</td>\n",
       "      <td>Metropolitian</td>\n",
       "      <td>object</td>\n",
       "    </tr>\n",
       "    <tr>\n",
       "      <th>4</th>\n",
       "      <td>0xa759</td>\n",
       "      <td>CHENRES19DEL01</td>\n",
       "      <td>31.0</td>\n",
       "      <td>4.6</td>\n",
       "      <td>12.986047</td>\n",
       "      <td>80.218114</td>\n",
       "      <td>13.096047</td>\n",
       "      <td>80.328114</td>\n",
       "      <td>27-03-2022</td>\n",
       "      <td>18:25</td>\n",
       "      <td>18:40</td>\n",
       "      <td>Sunny</td>\n",
       "      <td>Medium</td>\n",
       "      <td>2</td>\n",
       "      <td>Drinks</td>\n",
       "      <td>scooter</td>\n",
       "      <td>1.0</td>\n",
       "      <td>No</td>\n",
       "      <td>Metropolitian</td>\n",
       "      <td>object</td>\n",
       "    </tr>\n",
       "  </tbody>\n",
       "</table>\n",
       "</div>"
      ],
      "text/plain": [
       "       ID Delivery_person_ID  Delivery_person_Age  Delivery_person_Ratings  \\\n",
       "0  0x2318    COIMBRES13DEL01                  NaN                      NaN   \n",
       "1  0x3474     BANGRES15DEL01                 28.0                      4.6   \n",
       "2  0x9420      JAPRES09DEL03                 23.0                      4.5   \n",
       "3  0x72ee      JAPRES07DEL03                 21.0                      4.8   \n",
       "4  0xa759     CHENRES19DEL01                 31.0                      4.6   \n",
       "\n",
       "   Restaurant_latitude  Restaurant_longitude  Delivery_location_latitude  \\\n",
       "0            11.003669             76.976494                   11.043669   \n",
       "1            12.975377             77.696664                   13.085377   \n",
       "2            26.911378             75.789034                   27.001378   \n",
       "3            26.766536             75.837333                   26.856536   \n",
       "4            12.986047             80.218114                   13.096047   \n",
       "\n",
       "   Delivery_location_longitude  Order_Date Time_Orderd Time_Order_picked  \\\n",
       "0                    77.016494  30-03-2022         NaN             15:05   \n",
       "1                    77.806664  29-03-2022       20:30             20:35   \n",
       "2                    75.879034  10-03-2022       19:35             19:45   \n",
       "3                    75.927333  02-04-2022       17:15             17:20   \n",
       "4                    80.328114  27-03-2022       18:25             18:40   \n",
       "\n",
       "  Weather Road_traffic_density  Vehicle_condition Type_of_order  \\\n",
       "0     NaN                  NaN                  3        Drinks   \n",
       "1   Windy                  Jam                  0         Snack   \n",
       "2  Stormy                  Jam                  0        Drinks   \n",
       "3     Fog               Medium                  1          Meal   \n",
       "4   Sunny               Medium                  2        Drinks   \n",
       "\n",
       "    Type_of_vehicle  multiple_deliveries Festival           City   Name:  \n",
       "0  electric_scooter                  1.0       No  Metropolitian  object  \n",
       "1        motorcycle                  1.0       No  Metropolitian  object  \n",
       "2        motorcycle                  1.0       No  Metropolitian  object  \n",
       "3           scooter                  1.0       No  Metropolitian  object  \n",
       "4           scooter                  1.0       No  Metropolitian  object  "
      ]
     },
     "execution_count": 6,
     "metadata": {},
     "output_type": "execute_result"
    }
   ],
   "source": [
    "restaurant.head()"
   ]
  },
  {
   "cell_type": "code",
   "execution_count": 7,
   "id": "f227f8c9",
   "metadata": {},
   "outputs": [
    {
     "data": {
      "text/plain": [
       "(11399, 20)"
      ]
     },
     "execution_count": 7,
     "metadata": {},
     "output_type": "execute_result"
    }
   ],
   "source": [
    "restaurant.shape"
   ]
  },
  {
   "cell_type": "markdown",
   "id": "0f6fa8d5",
   "metadata": {},
   "source": [
    "Cleaning the data"
   ]
  },
  {
   "cell_type": "code",
   "execution_count": 8,
   "id": "789cd772",
   "metadata": {},
   "outputs": [
    {
     "data": {
      "text/plain": [
       "ID                               0\n",
       "Delivery_person_ID               0\n",
       "Delivery_person_Age            491\n",
       "Delivery_person_Ratings        507\n",
       "Restaurant_latitude              0\n",
       "Restaurant_longitude             0\n",
       "Delivery_location_latitude       0\n",
       "Delivery_location_longitude      0\n",
       "Order_Date                       0\n",
       "Time_Orderd                    444\n",
       "Time_Order_picked                0\n",
       "Weather                        158\n",
       "Road_traffic_density           154\n",
       "Vehicle_condition                0\n",
       "Type_of_order                    0\n",
       "Type_of_vehicle                  0\n",
       "multiple_deliveries            238\n",
       "Festival                        65\n",
       "City                           324\n",
       "Name:                            0\n",
       "dtype: int64"
      ]
     },
     "execution_count": 8,
     "metadata": {},
     "output_type": "execute_result"
    }
   ],
   "source": [
    "#checking for null values\n",
    "restaurant.isnull().sum()"
   ]
  },
  {
   "cell_type": "code",
   "execution_count": 9,
   "id": "01226284",
   "metadata": {},
   "outputs": [],
   "source": [
    "#removing null values since they are few compared to the volume of the data\n",
    "restaurant= restaurant.dropna()"
   ]
  },
  {
   "cell_type": "code",
   "execution_count": 10,
   "id": "a6da322c",
   "metadata": {},
   "outputs": [
    {
     "data": {
      "text/plain": [
       "ID                             0\n",
       "Delivery_person_ID             0\n",
       "Delivery_person_Age            0\n",
       "Delivery_person_Ratings        0\n",
       "Restaurant_latitude            0\n",
       "Restaurant_longitude           0\n",
       "Delivery_location_latitude     0\n",
       "Delivery_location_longitude    0\n",
       "Order_Date                     0\n",
       "Time_Orderd                    0\n",
       "Time_Order_picked              0\n",
       "Weather                        0\n",
       "Road_traffic_density           0\n",
       "Vehicle_condition              0\n",
       "Type_of_order                  0\n",
       "Type_of_vehicle                0\n",
       "multiple_deliveries            0\n",
       "Festival                       0\n",
       "City                           0\n",
       "Name:                          0\n",
       "dtype: int64"
      ]
     },
     "execution_count": 10,
     "metadata": {},
     "output_type": "execute_result"
    }
   ],
   "source": [
    "restaurant.isnull().sum()"
   ]
  },
  {
   "cell_type": "code",
   "execution_count": 11,
   "id": "88cee857",
   "metadata": {},
   "outputs": [
    {
     "name": "stdout",
     "output_type": "stream",
     "text": [
      "<class 'pandas.core.frame.DataFrame'>\n",
      "Int64Index: 10291 entries, 1 to 11398\n",
      "Data columns (total 20 columns):\n",
      " #   Column                       Non-Null Count  Dtype  \n",
      "---  ------                       --------------  -----  \n",
      " 0   ID                           10291 non-null  object \n",
      " 1   Delivery_person_ID           10291 non-null  object \n",
      " 2   Delivery_person_Age          10291 non-null  float64\n",
      " 3   Delivery_person_Ratings      10291 non-null  float64\n",
      " 4   Restaurant_latitude          10291 non-null  float64\n",
      " 5   Restaurant_longitude         10291 non-null  float64\n",
      " 6   Delivery_location_latitude   10291 non-null  float64\n",
      " 7   Delivery_location_longitude  10291 non-null  float64\n",
      " 8   Order_Date                   10291 non-null  object \n",
      " 9   Time_Orderd                  10291 non-null  object \n",
      " 10  Time_Order_picked            10291 non-null  object \n",
      " 11  Weather                      10291 non-null  object \n",
      " 12  Road_traffic_density         10291 non-null  object \n",
      " 13  Vehicle_condition            10291 non-null  int64  \n",
      " 14  Type_of_order                10291 non-null  object \n",
      " 15  Type_of_vehicle              10291 non-null  object \n",
      " 16  multiple_deliveries          10291 non-null  float64\n",
      " 17  Festival                     10291 non-null  object \n",
      " 18  City                         10291 non-null  object \n",
      " 19  Name:                        10291 non-null  object \n",
      "dtypes: float64(7), int64(1), object(12)\n",
      "memory usage: 1.6+ MB\n"
     ]
    }
   ],
   "source": [
    "restaurant.info()"
   ]
  },
  {
   "cell_type": "markdown",
   "id": "0ab0fc0a",
   "metadata": {},
   "source": [
    "Converting the Longitudes and Latitudes to distance_km"
   ]
  },
  {
   "cell_type": "code",
   "execution_count": 12,
   "id": "791db9ed",
   "metadata": {},
   "outputs": [],
   "source": [
    "import math\n",
    "from math import radians, sin, cos, acos\n",
    "\n",
    "def distance(restaurant, destination):\n",
    "\n",
    "    lat1, long1 = restaurant\n",
    "    lat2, long2 = destination\n",
    "    radius = 6371\n",
    "    # distance in kilometers\n",
    "\n",
    "    dlat = math.radians(lat2 - lat1)\n",
    "    dlong = math.radians(long2 - long1)\n",
    "    \n",
    "    a = (math.sin(dlat / 2) * math.sin(dlat / 2) + math.cos(math.radians(lat1)) * math.cos(math.radians(lat2)) * math.sin(dlong / 2) * math.sin(dlong / 2))\n",
    "    c = 2 * math.atan2(math.sqrt(a), math.sqrt(1 - a))\n",
    "    d = radius * c\n",
    "\n",
    "    return d"
   ]
  },
  {
   "cell_type": "code",
   "execution_count": 13,
   "id": "f5ba8cbf",
   "metadata": {},
   "outputs": [],
   "source": [
    "restaurant['distance_km'] = restaurant.apply(lambda x: distance((x['Restaurant_latitude'], x['Restaurant_longitude']), (x['Delivery_location_latitude'], x['Delivery_location_longitude'])), axis=1)"
   ]
  },
  {
   "cell_type": "code",
   "execution_count": 14,
   "id": "671bc10a",
   "metadata": {},
   "outputs": [
    {
     "data": {
      "text/html": [
       "<div>\n",
       "<style scoped>\n",
       "    .dataframe tbody tr th:only-of-type {\n",
       "        vertical-align: middle;\n",
       "    }\n",
       "\n",
       "    .dataframe tbody tr th {\n",
       "        vertical-align: top;\n",
       "    }\n",
       "\n",
       "    .dataframe thead th {\n",
       "        text-align: right;\n",
       "    }\n",
       "</style>\n",
       "<table border=\"1\" class=\"dataframe\">\n",
       "  <thead>\n",
       "    <tr style=\"text-align: right;\">\n",
       "      <th></th>\n",
       "      <th>ID</th>\n",
       "      <th>Delivery_person_ID</th>\n",
       "      <th>Delivery_person_Age</th>\n",
       "      <th>Delivery_person_Ratings</th>\n",
       "      <th>Restaurant_latitude</th>\n",
       "      <th>Restaurant_longitude</th>\n",
       "      <th>Delivery_location_latitude</th>\n",
       "      <th>Delivery_location_longitude</th>\n",
       "      <th>Order_Date</th>\n",
       "      <th>Time_Orderd</th>\n",
       "      <th>...</th>\n",
       "      <th>Weather</th>\n",
       "      <th>Road_traffic_density</th>\n",
       "      <th>Vehicle_condition</th>\n",
       "      <th>Type_of_order</th>\n",
       "      <th>Type_of_vehicle</th>\n",
       "      <th>multiple_deliveries</th>\n",
       "      <th>Festival</th>\n",
       "      <th>City</th>\n",
       "      <th>Name:</th>\n",
       "      <th>distance_km</th>\n",
       "    </tr>\n",
       "  </thead>\n",
       "  <tbody>\n",
       "    <tr>\n",
       "      <th>1</th>\n",
       "      <td>0x3474</td>\n",
       "      <td>BANGRES15DEL01</td>\n",
       "      <td>28.0</td>\n",
       "      <td>4.6</td>\n",
       "      <td>12.975377</td>\n",
       "      <td>77.696664</td>\n",
       "      <td>13.085377</td>\n",
       "      <td>77.806664</td>\n",
       "      <td>29-03-2022</td>\n",
       "      <td>20:30</td>\n",
       "      <td>...</td>\n",
       "      <td>Windy</td>\n",
       "      <td>Jam</td>\n",
       "      <td>0</td>\n",
       "      <td>Snack</td>\n",
       "      <td>motorcycle</td>\n",
       "      <td>1.0</td>\n",
       "      <td>No</td>\n",
       "      <td>Metropolitian</td>\n",
       "      <td>object</td>\n",
       "      <td>17.076617</td>\n",
       "    </tr>\n",
       "    <tr>\n",
       "      <th>2</th>\n",
       "      <td>0x9420</td>\n",
       "      <td>JAPRES09DEL03</td>\n",
       "      <td>23.0</td>\n",
       "      <td>4.5</td>\n",
       "      <td>26.911378</td>\n",
       "      <td>75.789034</td>\n",
       "      <td>27.001378</td>\n",
       "      <td>75.879034</td>\n",
       "      <td>10-03-2022</td>\n",
       "      <td>19:35</td>\n",
       "      <td>...</td>\n",
       "      <td>Stormy</td>\n",
       "      <td>Jam</td>\n",
       "      <td>0</td>\n",
       "      <td>Drinks</td>\n",
       "      <td>motorcycle</td>\n",
       "      <td>1.0</td>\n",
       "      <td>No</td>\n",
       "      <td>Metropolitian</td>\n",
       "      <td>object</td>\n",
       "      <td>13.406029</td>\n",
       "    </tr>\n",
       "    <tr>\n",
       "      <th>3</th>\n",
       "      <td>0x72ee</td>\n",
       "      <td>JAPRES07DEL03</td>\n",
       "      <td>21.0</td>\n",
       "      <td>4.8</td>\n",
       "      <td>26.766536</td>\n",
       "      <td>75.837333</td>\n",
       "      <td>26.856536</td>\n",
       "      <td>75.927333</td>\n",
       "      <td>02-04-2022</td>\n",
       "      <td>17:15</td>\n",
       "      <td>...</td>\n",
       "      <td>Fog</td>\n",
       "      <td>Medium</td>\n",
       "      <td>1</td>\n",
       "      <td>Meal</td>\n",
       "      <td>scooter</td>\n",
       "      <td>1.0</td>\n",
       "      <td>No</td>\n",
       "      <td>Metropolitian</td>\n",
       "      <td>object</td>\n",
       "      <td>13.413644</td>\n",
       "    </tr>\n",
       "    <tr>\n",
       "      <th>4</th>\n",
       "      <td>0xa759</td>\n",
       "      <td>CHENRES19DEL01</td>\n",
       "      <td>31.0</td>\n",
       "      <td>4.6</td>\n",
       "      <td>12.986047</td>\n",
       "      <td>80.218114</td>\n",
       "      <td>13.096047</td>\n",
       "      <td>80.328114</td>\n",
       "      <td>27-03-2022</td>\n",
       "      <td>18:25</td>\n",
       "      <td>...</td>\n",
       "      <td>Sunny</td>\n",
       "      <td>Medium</td>\n",
       "      <td>2</td>\n",
       "      <td>Drinks</td>\n",
       "      <td>scooter</td>\n",
       "      <td>1.0</td>\n",
       "      <td>No</td>\n",
       "      <td>Metropolitian</td>\n",
       "      <td>object</td>\n",
       "      <td>17.076259</td>\n",
       "    </tr>\n",
       "    <tr>\n",
       "      <th>5</th>\n",
       "      <td>0xc4af</td>\n",
       "      <td>GOARES04DEL01</td>\n",
       "      <td>26.0</td>\n",
       "      <td>4.7</td>\n",
       "      <td>15.569600</td>\n",
       "      <td>73.742294</td>\n",
       "      <td>15.579600</td>\n",
       "      <td>73.752294</td>\n",
       "      <td>15-02-2022</td>\n",
       "      <td>9:45</td>\n",
       "      <td>...</td>\n",
       "      <td>Fog</td>\n",
       "      <td>Low</td>\n",
       "      <td>0</td>\n",
       "      <td>Drinks</td>\n",
       "      <td>motorcycle</td>\n",
       "      <td>1.0</td>\n",
       "      <td>No</td>\n",
       "      <td>Metropolitian</td>\n",
       "      <td>object</td>\n",
       "      <td>1.543933</td>\n",
       "    </tr>\n",
       "  </tbody>\n",
       "</table>\n",
       "<p>5 rows × 21 columns</p>\n",
       "</div>"
      ],
      "text/plain": [
       "       ID Delivery_person_ID  Delivery_person_Age  Delivery_person_Ratings  \\\n",
       "1  0x3474     BANGRES15DEL01                 28.0                      4.6   \n",
       "2  0x9420      JAPRES09DEL03                 23.0                      4.5   \n",
       "3  0x72ee      JAPRES07DEL03                 21.0                      4.8   \n",
       "4  0xa759     CHENRES19DEL01                 31.0                      4.6   \n",
       "5  0xc4af      GOARES04DEL01                 26.0                      4.7   \n",
       "\n",
       "   Restaurant_latitude  Restaurant_longitude  Delivery_location_latitude  \\\n",
       "1            12.975377             77.696664                   13.085377   \n",
       "2            26.911378             75.789034                   27.001378   \n",
       "3            26.766536             75.837333                   26.856536   \n",
       "4            12.986047             80.218114                   13.096047   \n",
       "5            15.569600             73.742294                   15.579600   \n",
       "\n",
       "   Delivery_location_longitude  Order_Date Time_Orderd  ... Weather  \\\n",
       "1                    77.806664  29-03-2022       20:30  ...   Windy   \n",
       "2                    75.879034  10-03-2022       19:35  ...  Stormy   \n",
       "3                    75.927333  02-04-2022       17:15  ...     Fog   \n",
       "4                    80.328114  27-03-2022       18:25  ...   Sunny   \n",
       "5                    73.752294  15-02-2022        9:45  ...     Fog   \n",
       "\n",
       "  Road_traffic_density Vehicle_condition  Type_of_order Type_of_vehicle  \\\n",
       "1                  Jam                 0          Snack      motorcycle   \n",
       "2                  Jam                 0         Drinks      motorcycle   \n",
       "3               Medium                 1           Meal         scooter   \n",
       "4               Medium                 2         Drinks         scooter   \n",
       "5                  Low                 0         Drinks      motorcycle   \n",
       "\n",
       "  multiple_deliveries  Festival           City   Name: distance_km  \n",
       "1                 1.0        No  Metropolitian  object   17.076617  \n",
       "2                 1.0        No  Metropolitian  object   13.406029  \n",
       "3                 1.0        No  Metropolitian  object   13.413644  \n",
       "4                 1.0        No  Metropolitian  object   17.076259  \n",
       "5                 1.0        No  Metropolitian  object    1.543933  \n",
       "\n",
       "[5 rows x 21 columns]"
      ]
     },
     "execution_count": 14,
     "metadata": {},
     "output_type": "execute_result"
    }
   ],
   "source": [
    "restaurant.head()"
   ]
  },
  {
   "cell_type": "markdown",
   "id": "0facb027",
   "metadata": {},
   "source": [
    "Deriving a time taken column from time orderd and time order picked"
   ]
  },
  {
   "cell_type": "code",
   "execution_count": 15,
   "id": "34d4eb1e",
   "metadata": {
    "scrolled": true
   },
   "outputs": [
    {
     "data": {
      "text/plain": [
       "1       1900-01-01 20:30:00\n",
       "2       1900-01-01 19:35:00\n",
       "3       1900-01-01 17:15:00\n",
       "4       1900-01-01 18:25:00\n",
       "5       1900-01-01 09:45:00\n",
       "                ...        \n",
       "11393                   NaT\n",
       "11394   1900-01-01 21:35:00\n",
       "11395   1900-01-01 11:40:00\n",
       "11397   1900-01-01 18:35:00\n",
       "11398   1900-01-01 22:20:00\n",
       "Name: Time_Orderd, Length: 10291, dtype: datetime64[ns]"
      ]
     },
     "execution_count": 15,
     "metadata": {},
     "output_type": "execute_result"
    }
   ],
   "source": [
    "from datetime import datetime\n",
    "t1 = pd.to_datetime(restaurant['Time_Orderd'], errors='coerce', format='%H:%M')\n",
    "t1"
   ]
  },
  {
   "cell_type": "code",
   "execution_count": 16,
   "id": "3f390371",
   "metadata": {},
   "outputs": [
    {
     "data": {
      "text/plain": [
       "1       1900-01-01 20:35:00\n",
       "2       1900-01-01 19:45:00\n",
       "3       1900-01-01 17:20:00\n",
       "4       1900-01-01 18:40:00\n",
       "5       1900-01-01 09:55:00\n",
       "                ...        \n",
       "11393   1900-01-01 11:10:00\n",
       "11394   1900-01-01 21:45:00\n",
       "11395   1900-01-01 11:45:00\n",
       "11397   1900-01-01 18:40:00\n",
       "11398   1900-01-01 22:25:00\n",
       "Name: Time_Order_picked, Length: 10291, dtype: datetime64[ns]"
      ]
     },
     "execution_count": 16,
     "metadata": {},
     "output_type": "execute_result"
    }
   ],
   "source": [
    "t2 = pd.to_datetime(restaurant['Time_Order_picked'], errors='coerce', format='%H:%M')\n",
    "t2"
   ]
  },
  {
   "cell_type": "code",
   "execution_count": 17,
   "id": "a1e14c9e",
   "metadata": {
    "scrolled": true
   },
   "outputs": [],
   "source": [
    "#converting to seconds\n",
    "t3=(t2-t1).dt.seconds"
   ]
  },
  {
   "cell_type": "code",
   "execution_count": 18,
   "id": "924c7941",
   "metadata": {},
   "outputs": [],
   "source": [
    "#converting to minutes then assigning to a new column in our data\n",
    "restaurant['Time_taken(min)']=t3/60"
   ]
  },
  {
   "cell_type": "code",
   "execution_count": 19,
   "id": "7af960e9",
   "metadata": {},
   "outputs": [
    {
     "data": {
      "text/plain": [
       "0"
      ]
     },
     "execution_count": 19,
     "metadata": {},
     "output_type": "execute_result"
    }
   ],
   "source": [
    "restaurant['Time_taken(min)']=restaurant['Time_taken(min)'].fillna(round(restaurant['Time_taken(min)'].mean()))\n",
    "restaurant['Time_taken(min)'].isnull().sum()"
   ]
  },
  {
   "cell_type": "code",
   "execution_count": 20,
   "id": "30cc8b8f",
   "metadata": {},
   "outputs": [
    {
     "data": {
      "text/html": [
       "<div>\n",
       "<style scoped>\n",
       "    .dataframe tbody tr th:only-of-type {\n",
       "        vertical-align: middle;\n",
       "    }\n",
       "\n",
       "    .dataframe tbody tr th {\n",
       "        vertical-align: top;\n",
       "    }\n",
       "\n",
       "    .dataframe thead th {\n",
       "        text-align: right;\n",
       "    }\n",
       "</style>\n",
       "<table border=\"1\" class=\"dataframe\">\n",
       "  <thead>\n",
       "    <tr style=\"text-align: right;\">\n",
       "      <th></th>\n",
       "      <th>ID</th>\n",
       "      <th>Delivery_person_ID</th>\n",
       "      <th>Delivery_person_Age</th>\n",
       "      <th>Delivery_person_Ratings</th>\n",
       "      <th>Restaurant_latitude</th>\n",
       "      <th>Restaurant_longitude</th>\n",
       "      <th>Delivery_location_latitude</th>\n",
       "      <th>Delivery_location_longitude</th>\n",
       "      <th>Order_Date</th>\n",
       "      <th>Time_Orderd</th>\n",
       "      <th>...</th>\n",
       "      <th>Road_traffic_density</th>\n",
       "      <th>Vehicle_condition</th>\n",
       "      <th>Type_of_order</th>\n",
       "      <th>Type_of_vehicle</th>\n",
       "      <th>multiple_deliveries</th>\n",
       "      <th>Festival</th>\n",
       "      <th>City</th>\n",
       "      <th>Name:</th>\n",
       "      <th>distance_km</th>\n",
       "      <th>Time_taken(min)</th>\n",
       "    </tr>\n",
       "  </thead>\n",
       "  <tbody>\n",
       "    <tr>\n",
       "      <th>1</th>\n",
       "      <td>0x3474</td>\n",
       "      <td>BANGRES15DEL01</td>\n",
       "      <td>28.0</td>\n",
       "      <td>4.6</td>\n",
       "      <td>12.975377</td>\n",
       "      <td>77.696664</td>\n",
       "      <td>13.085377</td>\n",
       "      <td>77.806664</td>\n",
       "      <td>29-03-2022</td>\n",
       "      <td>20:30</td>\n",
       "      <td>...</td>\n",
       "      <td>Jam</td>\n",
       "      <td>0</td>\n",
       "      <td>Snack</td>\n",
       "      <td>motorcycle</td>\n",
       "      <td>1.0</td>\n",
       "      <td>No</td>\n",
       "      <td>Metropolitian</td>\n",
       "      <td>object</td>\n",
       "      <td>17.076617</td>\n",
       "      <td>5.0</td>\n",
       "    </tr>\n",
       "    <tr>\n",
       "      <th>2</th>\n",
       "      <td>0x9420</td>\n",
       "      <td>JAPRES09DEL03</td>\n",
       "      <td>23.0</td>\n",
       "      <td>4.5</td>\n",
       "      <td>26.911378</td>\n",
       "      <td>75.789034</td>\n",
       "      <td>27.001378</td>\n",
       "      <td>75.879034</td>\n",
       "      <td>10-03-2022</td>\n",
       "      <td>19:35</td>\n",
       "      <td>...</td>\n",
       "      <td>Jam</td>\n",
       "      <td>0</td>\n",
       "      <td>Drinks</td>\n",
       "      <td>motorcycle</td>\n",
       "      <td>1.0</td>\n",
       "      <td>No</td>\n",
       "      <td>Metropolitian</td>\n",
       "      <td>object</td>\n",
       "      <td>13.406029</td>\n",
       "      <td>10.0</td>\n",
       "    </tr>\n",
       "    <tr>\n",
       "      <th>3</th>\n",
       "      <td>0x72ee</td>\n",
       "      <td>JAPRES07DEL03</td>\n",
       "      <td>21.0</td>\n",
       "      <td>4.8</td>\n",
       "      <td>26.766536</td>\n",
       "      <td>75.837333</td>\n",
       "      <td>26.856536</td>\n",
       "      <td>75.927333</td>\n",
       "      <td>02-04-2022</td>\n",
       "      <td>17:15</td>\n",
       "      <td>...</td>\n",
       "      <td>Medium</td>\n",
       "      <td>1</td>\n",
       "      <td>Meal</td>\n",
       "      <td>scooter</td>\n",
       "      <td>1.0</td>\n",
       "      <td>No</td>\n",
       "      <td>Metropolitian</td>\n",
       "      <td>object</td>\n",
       "      <td>13.413644</td>\n",
       "      <td>5.0</td>\n",
       "    </tr>\n",
       "    <tr>\n",
       "      <th>4</th>\n",
       "      <td>0xa759</td>\n",
       "      <td>CHENRES19DEL01</td>\n",
       "      <td>31.0</td>\n",
       "      <td>4.6</td>\n",
       "      <td>12.986047</td>\n",
       "      <td>80.218114</td>\n",
       "      <td>13.096047</td>\n",
       "      <td>80.328114</td>\n",
       "      <td>27-03-2022</td>\n",
       "      <td>18:25</td>\n",
       "      <td>...</td>\n",
       "      <td>Medium</td>\n",
       "      <td>2</td>\n",
       "      <td>Drinks</td>\n",
       "      <td>scooter</td>\n",
       "      <td>1.0</td>\n",
       "      <td>No</td>\n",
       "      <td>Metropolitian</td>\n",
       "      <td>object</td>\n",
       "      <td>17.076259</td>\n",
       "      <td>15.0</td>\n",
       "    </tr>\n",
       "    <tr>\n",
       "      <th>5</th>\n",
       "      <td>0xc4af</td>\n",
       "      <td>GOARES04DEL01</td>\n",
       "      <td>26.0</td>\n",
       "      <td>4.7</td>\n",
       "      <td>15.569600</td>\n",
       "      <td>73.742294</td>\n",
       "      <td>15.579600</td>\n",
       "      <td>73.752294</td>\n",
       "      <td>15-02-2022</td>\n",
       "      <td>9:45</td>\n",
       "      <td>...</td>\n",
       "      <td>Low</td>\n",
       "      <td>0</td>\n",
       "      <td>Drinks</td>\n",
       "      <td>motorcycle</td>\n",
       "      <td>1.0</td>\n",
       "      <td>No</td>\n",
       "      <td>Metropolitian</td>\n",
       "      <td>object</td>\n",
       "      <td>1.543933</td>\n",
       "      <td>10.0</td>\n",
       "    </tr>\n",
       "  </tbody>\n",
       "</table>\n",
       "<p>5 rows × 22 columns</p>\n",
       "</div>"
      ],
      "text/plain": [
       "       ID Delivery_person_ID  Delivery_person_Age  Delivery_person_Ratings  \\\n",
       "1  0x3474     BANGRES15DEL01                 28.0                      4.6   \n",
       "2  0x9420      JAPRES09DEL03                 23.0                      4.5   \n",
       "3  0x72ee      JAPRES07DEL03                 21.0                      4.8   \n",
       "4  0xa759     CHENRES19DEL01                 31.0                      4.6   \n",
       "5  0xc4af      GOARES04DEL01                 26.0                      4.7   \n",
       "\n",
       "   Restaurant_latitude  Restaurant_longitude  Delivery_location_latitude  \\\n",
       "1            12.975377             77.696664                   13.085377   \n",
       "2            26.911378             75.789034                   27.001378   \n",
       "3            26.766536             75.837333                   26.856536   \n",
       "4            12.986047             80.218114                   13.096047   \n",
       "5            15.569600             73.742294                   15.579600   \n",
       "\n",
       "   Delivery_location_longitude  Order_Date Time_Orderd  ...  \\\n",
       "1                    77.806664  29-03-2022       20:30  ...   \n",
       "2                    75.879034  10-03-2022       19:35  ...   \n",
       "3                    75.927333  02-04-2022       17:15  ...   \n",
       "4                    80.328114  27-03-2022       18:25  ...   \n",
       "5                    73.752294  15-02-2022        9:45  ...   \n",
       "\n",
       "  Road_traffic_density Vehicle_condition Type_of_order  Type_of_vehicle  \\\n",
       "1                  Jam                 0         Snack       motorcycle   \n",
       "2                  Jam                 0        Drinks       motorcycle   \n",
       "3               Medium                 1          Meal          scooter   \n",
       "4               Medium                 2        Drinks          scooter   \n",
       "5                  Low                 0        Drinks       motorcycle   \n",
       "\n",
       "  multiple_deliveries Festival           City   Name: distance_km  \\\n",
       "1                 1.0       No  Metropolitian  object   17.076617   \n",
       "2                 1.0       No  Metropolitian  object   13.406029   \n",
       "3                 1.0       No  Metropolitian  object   13.413644   \n",
       "4                 1.0       No  Metropolitian  object   17.076259   \n",
       "5                 1.0       No  Metropolitian  object    1.543933   \n",
       "\n",
       "  Time_taken(min)  \n",
       "1             5.0  \n",
       "2            10.0  \n",
       "3             5.0  \n",
       "4            15.0  \n",
       "5            10.0  \n",
       "\n",
       "[5 rows x 22 columns]"
      ]
     },
     "execution_count": 20,
     "metadata": {},
     "output_type": "execute_result"
    }
   ],
   "source": [
    "restaurant.head()"
   ]
  },
  {
   "cell_type": "markdown",
   "id": "07ba0cf3",
   "metadata": {},
   "source": [
    "Extracting days and months from OrderDatecolum"
   ]
  },
  {
   "cell_type": "code",
   "execution_count": 21,
   "id": "16e2ba6b",
   "metadata": {},
   "outputs": [],
   "source": [
    "restaurant['Order_Date']=pd.to_datetime(restaurant['Order_Date'])\n",
    "restaurant['Days']=restaurant['Order_Date'].dt.strftime('%A')\n",
    "restaurant['Days']=restaurant['Days'].astype('category')"
   ]
  },
  {
   "cell_type": "code",
   "execution_count": 22,
   "id": "fd54dc6c",
   "metadata": {},
   "outputs": [],
   "source": [
    "restaurant['Months']=restaurant['Order_Date'].dt.strftime('%m')"
   ]
  },
  {
   "cell_type": "code",
   "execution_count": 23,
   "id": "8a08de53",
   "metadata": {},
   "outputs": [
    {
     "data": {
      "text/html": [
       "<div>\n",
       "<style scoped>\n",
       "    .dataframe tbody tr th:only-of-type {\n",
       "        vertical-align: middle;\n",
       "    }\n",
       "\n",
       "    .dataframe tbody tr th {\n",
       "        vertical-align: top;\n",
       "    }\n",
       "\n",
       "    .dataframe thead th {\n",
       "        text-align: right;\n",
       "    }\n",
       "</style>\n",
       "<table border=\"1\" class=\"dataframe\">\n",
       "  <thead>\n",
       "    <tr style=\"text-align: right;\">\n",
       "      <th></th>\n",
       "      <th>ID</th>\n",
       "      <th>Delivery_person_ID</th>\n",
       "      <th>Delivery_person_Age</th>\n",
       "      <th>Delivery_person_Ratings</th>\n",
       "      <th>Restaurant_latitude</th>\n",
       "      <th>Restaurant_longitude</th>\n",
       "      <th>Delivery_location_latitude</th>\n",
       "      <th>Delivery_location_longitude</th>\n",
       "      <th>Order_Date</th>\n",
       "      <th>Time_Orderd</th>\n",
       "      <th>...</th>\n",
       "      <th>Type_of_order</th>\n",
       "      <th>Type_of_vehicle</th>\n",
       "      <th>multiple_deliveries</th>\n",
       "      <th>Festival</th>\n",
       "      <th>City</th>\n",
       "      <th>Name:</th>\n",
       "      <th>distance_km</th>\n",
       "      <th>Time_taken(min)</th>\n",
       "      <th>Days</th>\n",
       "      <th>Months</th>\n",
       "    </tr>\n",
       "  </thead>\n",
       "  <tbody>\n",
       "    <tr>\n",
       "      <th>1</th>\n",
       "      <td>0x3474</td>\n",
       "      <td>BANGRES15DEL01</td>\n",
       "      <td>28.0</td>\n",
       "      <td>4.6</td>\n",
       "      <td>12.975377</td>\n",
       "      <td>77.696664</td>\n",
       "      <td>13.085377</td>\n",
       "      <td>77.806664</td>\n",
       "      <td>2022-03-29</td>\n",
       "      <td>20:30</td>\n",
       "      <td>...</td>\n",
       "      <td>Snack</td>\n",
       "      <td>motorcycle</td>\n",
       "      <td>1.0</td>\n",
       "      <td>No</td>\n",
       "      <td>Metropolitian</td>\n",
       "      <td>object</td>\n",
       "      <td>17.076617</td>\n",
       "      <td>5.0</td>\n",
       "      <td>Tuesday</td>\n",
       "      <td>03</td>\n",
       "    </tr>\n",
       "    <tr>\n",
       "      <th>2</th>\n",
       "      <td>0x9420</td>\n",
       "      <td>JAPRES09DEL03</td>\n",
       "      <td>23.0</td>\n",
       "      <td>4.5</td>\n",
       "      <td>26.911378</td>\n",
       "      <td>75.789034</td>\n",
       "      <td>27.001378</td>\n",
       "      <td>75.879034</td>\n",
       "      <td>2022-10-03</td>\n",
       "      <td>19:35</td>\n",
       "      <td>...</td>\n",
       "      <td>Drinks</td>\n",
       "      <td>motorcycle</td>\n",
       "      <td>1.0</td>\n",
       "      <td>No</td>\n",
       "      <td>Metropolitian</td>\n",
       "      <td>object</td>\n",
       "      <td>13.406029</td>\n",
       "      <td>10.0</td>\n",
       "      <td>Monday</td>\n",
       "      <td>10</td>\n",
       "    </tr>\n",
       "    <tr>\n",
       "      <th>3</th>\n",
       "      <td>0x72ee</td>\n",
       "      <td>JAPRES07DEL03</td>\n",
       "      <td>21.0</td>\n",
       "      <td>4.8</td>\n",
       "      <td>26.766536</td>\n",
       "      <td>75.837333</td>\n",
       "      <td>26.856536</td>\n",
       "      <td>75.927333</td>\n",
       "      <td>2022-02-04</td>\n",
       "      <td>17:15</td>\n",
       "      <td>...</td>\n",
       "      <td>Meal</td>\n",
       "      <td>scooter</td>\n",
       "      <td>1.0</td>\n",
       "      <td>No</td>\n",
       "      <td>Metropolitian</td>\n",
       "      <td>object</td>\n",
       "      <td>13.413644</td>\n",
       "      <td>5.0</td>\n",
       "      <td>Friday</td>\n",
       "      <td>02</td>\n",
       "    </tr>\n",
       "    <tr>\n",
       "      <th>4</th>\n",
       "      <td>0xa759</td>\n",
       "      <td>CHENRES19DEL01</td>\n",
       "      <td>31.0</td>\n",
       "      <td>4.6</td>\n",
       "      <td>12.986047</td>\n",
       "      <td>80.218114</td>\n",
       "      <td>13.096047</td>\n",
       "      <td>80.328114</td>\n",
       "      <td>2022-03-27</td>\n",
       "      <td>18:25</td>\n",
       "      <td>...</td>\n",
       "      <td>Drinks</td>\n",
       "      <td>scooter</td>\n",
       "      <td>1.0</td>\n",
       "      <td>No</td>\n",
       "      <td>Metropolitian</td>\n",
       "      <td>object</td>\n",
       "      <td>17.076259</td>\n",
       "      <td>15.0</td>\n",
       "      <td>Sunday</td>\n",
       "      <td>03</td>\n",
       "    </tr>\n",
       "    <tr>\n",
       "      <th>5</th>\n",
       "      <td>0xc4af</td>\n",
       "      <td>GOARES04DEL01</td>\n",
       "      <td>26.0</td>\n",
       "      <td>4.7</td>\n",
       "      <td>15.569600</td>\n",
       "      <td>73.742294</td>\n",
       "      <td>15.579600</td>\n",
       "      <td>73.752294</td>\n",
       "      <td>2022-02-15</td>\n",
       "      <td>9:45</td>\n",
       "      <td>...</td>\n",
       "      <td>Drinks</td>\n",
       "      <td>motorcycle</td>\n",
       "      <td>1.0</td>\n",
       "      <td>No</td>\n",
       "      <td>Metropolitian</td>\n",
       "      <td>object</td>\n",
       "      <td>1.543933</td>\n",
       "      <td>10.0</td>\n",
       "      <td>Tuesday</td>\n",
       "      <td>02</td>\n",
       "    </tr>\n",
       "  </tbody>\n",
       "</table>\n",
       "<p>5 rows × 24 columns</p>\n",
       "</div>"
      ],
      "text/plain": [
       "       ID Delivery_person_ID  Delivery_person_Age  Delivery_person_Ratings  \\\n",
       "1  0x3474     BANGRES15DEL01                 28.0                      4.6   \n",
       "2  0x9420      JAPRES09DEL03                 23.0                      4.5   \n",
       "3  0x72ee      JAPRES07DEL03                 21.0                      4.8   \n",
       "4  0xa759     CHENRES19DEL01                 31.0                      4.6   \n",
       "5  0xc4af      GOARES04DEL01                 26.0                      4.7   \n",
       "\n",
       "   Restaurant_latitude  Restaurant_longitude  Delivery_location_latitude  \\\n",
       "1            12.975377             77.696664                   13.085377   \n",
       "2            26.911378             75.789034                   27.001378   \n",
       "3            26.766536             75.837333                   26.856536   \n",
       "4            12.986047             80.218114                   13.096047   \n",
       "5            15.569600             73.742294                   15.579600   \n",
       "\n",
       "   Delivery_location_longitude Order_Date Time_Orderd  ... Type_of_order  \\\n",
       "1                    77.806664 2022-03-29       20:30  ...         Snack   \n",
       "2                    75.879034 2022-10-03       19:35  ...        Drinks   \n",
       "3                    75.927333 2022-02-04       17:15  ...          Meal   \n",
       "4                    80.328114 2022-03-27       18:25  ...        Drinks   \n",
       "5                    73.752294 2022-02-15        9:45  ...        Drinks   \n",
       "\n",
       "  Type_of_vehicle multiple_deliveries  Festival           City   Name:  \\\n",
       "1      motorcycle                 1.0        No  Metropolitian  object   \n",
       "2      motorcycle                 1.0        No  Metropolitian  object   \n",
       "3         scooter                 1.0        No  Metropolitian  object   \n",
       "4         scooter                 1.0        No  Metropolitian  object   \n",
       "5      motorcycle                 1.0        No  Metropolitian  object   \n",
       "\n",
       "   distance_km Time_taken(min)     Days Months  \n",
       "1    17.076617             5.0  Tuesday     03  \n",
       "2    13.406029            10.0   Monday     10  \n",
       "3    13.413644             5.0   Friday     02  \n",
       "4    17.076259            15.0   Sunday     03  \n",
       "5     1.543933            10.0  Tuesday     02  \n",
       "\n",
       "[5 rows x 24 columns]"
      ]
     },
     "execution_count": 23,
     "metadata": {},
     "output_type": "execute_result"
    }
   ],
   "source": [
    "restaurant.head()"
   ]
  },
  {
   "cell_type": "markdown",
   "id": "b22fe6c6",
   "metadata": {},
   "source": [
    "Removing duplicate and irrelevant columns"
   ]
  },
  {
   "cell_type": "code",
   "execution_count": 24,
   "id": "425756f6",
   "metadata": {},
   "outputs": [],
   "source": [
    "restaurant_updated = restaurant.drop(['Restaurant_latitude', 'Restaurant_longitude', 'Delivery_location_latitude','Delivery_location_longitude','Name:'], axis='columns')"
   ]
  },
  {
   "cell_type": "markdown",
   "id": "1f6f9fe8",
   "metadata": {},
   "source": [
    "Exploratory Data Analysis"
   ]
  },
  {
   "cell_type": "code",
   "execution_count": 25,
   "id": "684d3117",
   "metadata": {},
   "outputs": [
    {
     "data": {
      "text/html": [
       "<div>\n",
       "<style scoped>\n",
       "    .dataframe tbody tr th:only-of-type {\n",
       "        vertical-align: middle;\n",
       "    }\n",
       "\n",
       "    .dataframe tbody tr th {\n",
       "        vertical-align: top;\n",
       "    }\n",
       "\n",
       "    .dataframe thead th {\n",
       "        text-align: right;\n",
       "    }\n",
       "</style>\n",
       "<table border=\"1\" class=\"dataframe\">\n",
       "  <thead>\n",
       "    <tr style=\"text-align: right;\">\n",
       "      <th></th>\n",
       "      <th>ID</th>\n",
       "      <th>Delivery_person_ID</th>\n",
       "      <th>Delivery_person_Age</th>\n",
       "      <th>Delivery_person_Ratings</th>\n",
       "      <th>Order_Date</th>\n",
       "      <th>Time_Orderd</th>\n",
       "      <th>Time_Order_picked</th>\n",
       "      <th>Weather</th>\n",
       "      <th>Road_traffic_density</th>\n",
       "      <th>Vehicle_condition</th>\n",
       "      <th>Type_of_order</th>\n",
       "      <th>Type_of_vehicle</th>\n",
       "      <th>multiple_deliveries</th>\n",
       "      <th>Festival</th>\n",
       "      <th>City</th>\n",
       "      <th>distance_km</th>\n",
       "      <th>Time_taken(min)</th>\n",
       "      <th>Days</th>\n",
       "      <th>Months</th>\n",
       "    </tr>\n",
       "  </thead>\n",
       "  <tbody>\n",
       "    <tr>\n",
       "      <th>1</th>\n",
       "      <td>0x3474</td>\n",
       "      <td>BANGRES15DEL01</td>\n",
       "      <td>28.0</td>\n",
       "      <td>4.6</td>\n",
       "      <td>2022-03-29</td>\n",
       "      <td>20:30</td>\n",
       "      <td>20:35</td>\n",
       "      <td>Windy</td>\n",
       "      <td>Jam</td>\n",
       "      <td>0</td>\n",
       "      <td>Snack</td>\n",
       "      <td>motorcycle</td>\n",
       "      <td>1.0</td>\n",
       "      <td>No</td>\n",
       "      <td>Metropolitian</td>\n",
       "      <td>17.076617</td>\n",
       "      <td>5.0</td>\n",
       "      <td>Tuesday</td>\n",
       "      <td>03</td>\n",
       "    </tr>\n",
       "    <tr>\n",
       "      <th>2</th>\n",
       "      <td>0x9420</td>\n",
       "      <td>JAPRES09DEL03</td>\n",
       "      <td>23.0</td>\n",
       "      <td>4.5</td>\n",
       "      <td>2022-10-03</td>\n",
       "      <td>19:35</td>\n",
       "      <td>19:45</td>\n",
       "      <td>Stormy</td>\n",
       "      <td>Jam</td>\n",
       "      <td>0</td>\n",
       "      <td>Drinks</td>\n",
       "      <td>motorcycle</td>\n",
       "      <td>1.0</td>\n",
       "      <td>No</td>\n",
       "      <td>Metropolitian</td>\n",
       "      <td>13.406029</td>\n",
       "      <td>10.0</td>\n",
       "      <td>Monday</td>\n",
       "      <td>10</td>\n",
       "    </tr>\n",
       "    <tr>\n",
       "      <th>3</th>\n",
       "      <td>0x72ee</td>\n",
       "      <td>JAPRES07DEL03</td>\n",
       "      <td>21.0</td>\n",
       "      <td>4.8</td>\n",
       "      <td>2022-02-04</td>\n",
       "      <td>17:15</td>\n",
       "      <td>17:20</td>\n",
       "      <td>Fog</td>\n",
       "      <td>Medium</td>\n",
       "      <td>1</td>\n",
       "      <td>Meal</td>\n",
       "      <td>scooter</td>\n",
       "      <td>1.0</td>\n",
       "      <td>No</td>\n",
       "      <td>Metropolitian</td>\n",
       "      <td>13.413644</td>\n",
       "      <td>5.0</td>\n",
       "      <td>Friday</td>\n",
       "      <td>02</td>\n",
       "    </tr>\n",
       "    <tr>\n",
       "      <th>4</th>\n",
       "      <td>0xa759</td>\n",
       "      <td>CHENRES19DEL01</td>\n",
       "      <td>31.0</td>\n",
       "      <td>4.6</td>\n",
       "      <td>2022-03-27</td>\n",
       "      <td>18:25</td>\n",
       "      <td>18:40</td>\n",
       "      <td>Sunny</td>\n",
       "      <td>Medium</td>\n",
       "      <td>2</td>\n",
       "      <td>Drinks</td>\n",
       "      <td>scooter</td>\n",
       "      <td>1.0</td>\n",
       "      <td>No</td>\n",
       "      <td>Metropolitian</td>\n",
       "      <td>17.076259</td>\n",
       "      <td>15.0</td>\n",
       "      <td>Sunday</td>\n",
       "      <td>03</td>\n",
       "    </tr>\n",
       "    <tr>\n",
       "      <th>5</th>\n",
       "      <td>0xc4af</td>\n",
       "      <td>GOARES04DEL01</td>\n",
       "      <td>26.0</td>\n",
       "      <td>4.7</td>\n",
       "      <td>2022-02-15</td>\n",
       "      <td>9:45</td>\n",
       "      <td>9:55</td>\n",
       "      <td>Fog</td>\n",
       "      <td>Low</td>\n",
       "      <td>0</td>\n",
       "      <td>Drinks</td>\n",
       "      <td>motorcycle</td>\n",
       "      <td>1.0</td>\n",
       "      <td>No</td>\n",
       "      <td>Metropolitian</td>\n",
       "      <td>1.543933</td>\n",
       "      <td>10.0</td>\n",
       "      <td>Tuesday</td>\n",
       "      <td>02</td>\n",
       "    </tr>\n",
       "    <tr>\n",
       "      <th>...</th>\n",
       "      <td>...</td>\n",
       "      <td>...</td>\n",
       "      <td>...</td>\n",
       "      <td>...</td>\n",
       "      <td>...</td>\n",
       "      <td>...</td>\n",
       "      <td>...</td>\n",
       "      <td>...</td>\n",
       "      <td>...</td>\n",
       "      <td>...</td>\n",
       "      <td>...</td>\n",
       "      <td>...</td>\n",
       "      <td>...</td>\n",
       "      <td>...</td>\n",
       "      <td>...</td>\n",
       "      <td>...</td>\n",
       "      <td>...</td>\n",
       "      <td>...</td>\n",
       "      <td>...</td>\n",
       "    </tr>\n",
       "    <tr>\n",
       "      <th>11393</th>\n",
       "      <td>0xe240</td>\n",
       "      <td>BHPRES07DEL01</td>\n",
       "      <td>31.0</td>\n",
       "      <td>4.7</td>\n",
       "      <td>2022-02-13</td>\n",
       "      <td>10:60</td>\n",
       "      <td>11:10</td>\n",
       "      <td>Windy</td>\n",
       "      <td>Low</td>\n",
       "      <td>2</td>\n",
       "      <td>Snack</td>\n",
       "      <td>scooter</td>\n",
       "      <td>1.0</td>\n",
       "      <td>No</td>\n",
       "      <td>Metropolitian</td>\n",
       "      <td>1.572534</td>\n",
       "      <td>10.0</td>\n",
       "      <td>Sunday</td>\n",
       "      <td>02</td>\n",
       "    </tr>\n",
       "    <tr>\n",
       "      <th>11394</th>\n",
       "      <td>0x6909</td>\n",
       "      <td>JAPRES01DEL01</td>\n",
       "      <td>35.0</td>\n",
       "      <td>4.6</td>\n",
       "      <td>2022-03-27</td>\n",
       "      <td>21:35</td>\n",
       "      <td>21:45</td>\n",
       "      <td>Sunny</td>\n",
       "      <td>Jam</td>\n",
       "      <td>1</td>\n",
       "      <td>Snack</td>\n",
       "      <td>scooter</td>\n",
       "      <td>1.0</td>\n",
       "      <td>No</td>\n",
       "      <td>Metropolitian</td>\n",
       "      <td>16.384901</td>\n",
       "      <td>10.0</td>\n",
       "      <td>Sunday</td>\n",
       "      <td>03</td>\n",
       "    </tr>\n",
       "    <tr>\n",
       "      <th>11395</th>\n",
       "      <td>0x443b</td>\n",
       "      <td>JAPRES11DEL01</td>\n",
       "      <td>33.0</td>\n",
       "      <td>4.9</td>\n",
       "      <td>2022-11-03</td>\n",
       "      <td>11:40</td>\n",
       "      <td>11:45</td>\n",
       "      <td>Sandstorms</td>\n",
       "      <td>High</td>\n",
       "      <td>1</td>\n",
       "      <td>Drinks</td>\n",
       "      <td>scooter</td>\n",
       "      <td>1.0</td>\n",
       "      <td>No</td>\n",
       "      <td>Metropolitian</td>\n",
       "      <td>1.489842</td>\n",
       "      <td>5.0</td>\n",
       "      <td>Thursday</td>\n",
       "      <td>11</td>\n",
       "    </tr>\n",
       "    <tr>\n",
       "      <th>11397</th>\n",
       "      <td>0x22d4</td>\n",
       "      <td>VADRES03DEL02</td>\n",
       "      <td>27.0</td>\n",
       "      <td>4.7</td>\n",
       "      <td>2022-06-03</td>\n",
       "      <td>18:35</td>\n",
       "      <td>18:40</td>\n",
       "      <td>Sandstorms</td>\n",
       "      <td>Medium</td>\n",
       "      <td>0</td>\n",
       "      <td>Meal</td>\n",
       "      <td>motorcycle</td>\n",
       "      <td>0.0</td>\n",
       "      <td>No</td>\n",
       "      <td>Metropolitian</td>\n",
       "      <td>19.687777</td>\n",
       "      <td>5.0</td>\n",
       "      <td>Friday</td>\n",
       "      <td>06</td>\n",
       "    </tr>\n",
       "    <tr>\n",
       "      <th>11398</th>\n",
       "      <td>0xb7be</td>\n",
       "      <td>CHENRES07DEL02</td>\n",
       "      <td>39.0</td>\n",
       "      <td>5.0</td>\n",
       "      <td>2022-03-24</td>\n",
       "      <td>22:20</td>\n",
       "      <td>22:25</td>\n",
       "      <td>Windy</td>\n",
       "      <td>Low</td>\n",
       "      <td>2</td>\n",
       "      <td>Drinks</td>\n",
       "      <td>motorcycle</td>\n",
       "      <td>1.0</td>\n",
       "      <td>No</td>\n",
       "      <td>Urban</td>\n",
       "      <td>7.760928</td>\n",
       "      <td>5.0</td>\n",
       "      <td>Thursday</td>\n",
       "      <td>03</td>\n",
       "    </tr>\n",
       "  </tbody>\n",
       "</table>\n",
       "<p>10291 rows × 19 columns</p>\n",
       "</div>"
      ],
      "text/plain": [
       "           ID Delivery_person_ID  Delivery_person_Age  \\\n",
       "1      0x3474     BANGRES15DEL01                 28.0   \n",
       "2      0x9420      JAPRES09DEL03                 23.0   \n",
       "3      0x72ee      JAPRES07DEL03                 21.0   \n",
       "4      0xa759     CHENRES19DEL01                 31.0   \n",
       "5      0xc4af      GOARES04DEL01                 26.0   \n",
       "...       ...                ...                  ...   \n",
       "11393  0xe240      BHPRES07DEL01                 31.0   \n",
       "11394  0x6909      JAPRES01DEL01                 35.0   \n",
       "11395  0x443b      JAPRES11DEL01                 33.0   \n",
       "11397  0x22d4      VADRES03DEL02                 27.0   \n",
       "11398  0xb7be     CHENRES07DEL02                 39.0   \n",
       "\n",
       "       Delivery_person_Ratings Order_Date Time_Orderd Time_Order_picked  \\\n",
       "1                          4.6 2022-03-29       20:30             20:35   \n",
       "2                          4.5 2022-10-03       19:35             19:45   \n",
       "3                          4.8 2022-02-04       17:15             17:20   \n",
       "4                          4.6 2022-03-27       18:25             18:40   \n",
       "5                          4.7 2022-02-15        9:45              9:55   \n",
       "...                        ...        ...         ...               ...   \n",
       "11393                      4.7 2022-02-13       10:60             11:10   \n",
       "11394                      4.6 2022-03-27       21:35             21:45   \n",
       "11395                      4.9 2022-11-03       11:40             11:45   \n",
       "11397                      4.7 2022-06-03       18:35             18:40   \n",
       "11398                      5.0 2022-03-24       22:20             22:25   \n",
       "\n",
       "          Weather Road_traffic_density  Vehicle_condition Type_of_order  \\\n",
       "1           Windy                  Jam                  0         Snack   \n",
       "2          Stormy                  Jam                  0        Drinks   \n",
       "3             Fog               Medium                  1          Meal   \n",
       "4           Sunny               Medium                  2        Drinks   \n",
       "5             Fog                  Low                  0        Drinks   \n",
       "...           ...                  ...                ...           ...   \n",
       "11393       Windy                  Low                  2         Snack   \n",
       "11394       Sunny                  Jam                  1         Snack   \n",
       "11395  Sandstorms                 High                  1        Drinks   \n",
       "11397  Sandstorms               Medium                  0          Meal   \n",
       "11398       Windy                  Low                  2        Drinks   \n",
       "\n",
       "      Type_of_vehicle  multiple_deliveries Festival           City  \\\n",
       "1          motorcycle                  1.0       No  Metropolitian   \n",
       "2          motorcycle                  1.0       No  Metropolitian   \n",
       "3             scooter                  1.0       No  Metropolitian   \n",
       "4             scooter                  1.0       No  Metropolitian   \n",
       "5          motorcycle                  1.0       No  Metropolitian   \n",
       "...               ...                  ...      ...            ...   \n",
       "11393         scooter                  1.0       No  Metropolitian   \n",
       "11394         scooter                  1.0       No  Metropolitian   \n",
       "11395         scooter                  1.0       No  Metropolitian   \n",
       "11397      motorcycle                  0.0       No  Metropolitian   \n",
       "11398      motorcycle                  1.0       No          Urban   \n",
       "\n",
       "       distance_km  Time_taken(min)      Days Months  \n",
       "1        17.076617              5.0   Tuesday     03  \n",
       "2        13.406029             10.0    Monday     10  \n",
       "3        13.413644              5.0    Friday     02  \n",
       "4        17.076259             15.0    Sunday     03  \n",
       "5         1.543933             10.0   Tuesday     02  \n",
       "...            ...              ...       ...    ...  \n",
       "11393     1.572534             10.0    Sunday     02  \n",
       "11394    16.384901             10.0    Sunday     03  \n",
       "11395     1.489842              5.0  Thursday     11  \n",
       "11397    19.687777              5.0    Friday     06  \n",
       "11398     7.760928              5.0  Thursday     03  \n",
       "\n",
       "[10291 rows x 19 columns]"
      ]
     },
     "execution_count": 25,
     "metadata": {},
     "output_type": "execute_result"
    }
   ],
   "source": [
    "restaurant_updated"
   ]
  },
  {
   "cell_type": "code",
   "execution_count": 26,
   "id": "dcedbb7b",
   "metadata": {},
   "outputs": [
    {
     "data": {
      "text/plain": [
       "8431     01\n",
       "5759     01\n",
       "4878     01\n",
       "10468    01\n",
       "4451     01\n",
       "         ..\n",
       "1978     12\n",
       "1340     12\n",
       "9832     12\n",
       "9830     12\n",
       "2582     12\n",
       "Name: Months, Length: 10291, dtype: object"
      ]
     },
     "execution_count": 26,
     "metadata": {},
     "output_type": "execute_result"
    }
   ],
   "source": [
    "sorted_months=restaurant_updated['Months'].sort_values()\n",
    "sorted_months"
   ]
  },
  {
   "cell_type": "code",
   "execution_count": 27,
   "id": "83686274",
   "metadata": {
    "scrolled": true
   },
   "outputs": [
    {
     "data": {
      "image/png": "[encoded data removed]",
      "text/plain": [
       "<Figure size 432x288 with 1 Axes>"
      ]
     },
     "metadata": {
      "needs_background": "light"
     },
     "output_type": "display_data"
    }
   ],
   "source": [
    "#df_1=restaurant_updated.groupby('Order_Date')\n",
    "plt.plot(sorted_months.value_counts(sort = False), color = \"purple\");"
   ]
  },
  {
   "cell_type": "markdown",
   "id": "040695b5",
   "metadata": {},
   "source": [
    "This shows there was a spike in month 3(march), then a downward trend, This is worth looking into"
   ]
  },
  {
   "cell_type": "code",
   "execution_count": 28,
   "id": "2812807d",
   "metadata": {},
   "outputs": [
    {
     "data": {
      "image/png": "[encoded data removed]",
      "text/plain": [
       "<Figure size 432x288 with 1 Axes>"
      ]
     },
     "metadata": {
      "needs_background": "light"
     },
     "output_type": "display_data"
    }
   ],
   "source": [
    "df=restaurant_updated['Days'].value_counts()\n",
    "df.plot(kind =\"bar\", color = \"purple\");"
   ]
  },
  {
   "cell_type": "markdown",
   "id": "156a1b14",
   "metadata": {},
   "source": [
    "Mondays and Thursdays seem to have more others than other days, while Tuesdays and Saturdays seem to be slow in terms of orders"
   ]
  },
  {
   "cell_type": "code",
   "execution_count": 29,
   "id": "26b8b6b8",
   "metadata": {},
   "outputs": [
    {
     "data": {
      "image/png": "[encoded data removed]",
      "text/plain": [
       "<Figure size 432x288 with 1 Axes>"
      ]
     },
     "metadata": {},
     "output_type": "display_data"
    }
   ],
   "source": [
    "plt.pie(restaurant_updated['City'].value_counts(), labels=restaurant_updated['City'].value_counts().head().index, autopct='%1.1f%%',\n",
    "        colors=['purple','grey', 'pink'],startangle=120);\n",
    "plt.legend();"
   ]
  },
  {
   "cell_type": "markdown",
   "id": "c91f2193",
   "metadata": {},
   "source": [
    "A very large percentage of customers are from Metropolitan cities while there is less patronage from semi urban probably due to the distance. More marketing and faster delivery to semi urban as well as Urban will tackle this"
   ]
  },
  {
   "cell_type": "code",
   "execution_count": 30,
   "id": "f8007354",
   "metadata": {},
   "outputs": [
    {
     "data": {
      "text/plain": [
       "Metropolitian    7894\n",
       "Urban            2352\n",
       "Semi-Urban         45\n",
       "Name: City, dtype: int64"
      ]
     },
     "execution_count": 30,
     "metadata": {},
     "output_type": "execute_result"
    }
   ],
   "source": [
    "restaurant_updated['City'].value_counts()"
   ]
  },
  {
   "cell_type": "code",
   "execution_count": 31,
   "id": "90a33b1f",
   "metadata": {
    "scrolled": true
   },
   "outputs": [
    {
     "data": {
      "image/png": "[encoded data removed]",
      "text/plain": [
       "<Figure size 432x288 with 1 Axes>"
      ]
     },
     "metadata": {
      "needs_background": "light"
     },
     "output_type": "display_data"
    }
   ],
   "source": [
    "#does weather affect orders?\n",
    "df=restaurant_updated['Weather'].value_counts()\n",
    "df.plot(kind =\"barh\", color = \"purple\");"
   ]
  },
  {
   "cell_type": "markdown",
   "id": "83459b5f",
   "metadata": {},
   "source": [
    "Weather seem to  have little influence on number orf orders as the difference between number of orders in different weather conditions is little"
   ]
  },
  {
   "cell_type": "code",
   "execution_count": 32,
   "id": "ef685047",
   "metadata": {},
   "outputs": [
    {
     "data": {
      "image/png": "[encoded data removed]",
      "text/plain": [
       "<Figure size 432x288 with 1 Axes>"
      ]
     },
     "metadata": {
      "needs_background": "light"
     },
     "output_type": "display_data"
    }
   ],
   "source": [
    "df=restaurant_updated['Type_of_order'].value_counts()\n",
    "df.plot(kind =\"bar\", color = \"purple\");"
   ]
  },
  {
   "cell_type": "code",
   "execution_count": 33,
   "id": "e7e7e5b1",
   "metadata": {},
   "outputs": [
    {
     "data": {
      "image/png": "[encoded data removed]",
      "text/plain": [
       "<Figure size 864x720 with 1 Axes>"
      ]
     },
     "metadata": {
      "needs_background": "light"
     },
     "output_type": "display_data"
    }
   ],
   "source": [
    "df=restaurant.groupby(['Type_of_order', 'Weather'])['Weather'].count().unstack('Type_of_order')\n",
    "from matplotlib import cm\n",
    "cmap = cm.get_cmap('magma')\n",
    "df.plot(kind='bar', stacked=True, figsize=(12, 10), cmap=cmap, edgecolor='None');"
   ]
  },
  {
   "cell_type": "markdown",
   "id": "9398fe5f",
   "metadata": {},
   "source": [
    "Average Time Taken for Delivery"
   ]
  },
  {
   "cell_type": "code",
   "execution_count": 34,
   "id": "0042c938",
   "metadata": {},
   "outputs": [
    {
     "data": {
      "text/plain": [
       "9.992712078515208"
      ]
     },
     "execution_count": 34,
     "metadata": {},
     "output_type": "execute_result"
    }
   ],
   "source": [
    "#On average, how long do orders take?\n",
    "restaurant_updated['Time_taken(min)'].mean()"
   ]
  },
  {
   "cell_type": "code",
   "execution_count": 35,
   "id": "de421537",
   "metadata": {},
   "outputs": [
    {
     "data": {
      "image/png": "[encoded data removed]",
      "text/plain": [
       "<Figure size 432x288 with 1 Axes>"
      ]
     },
     "metadata": {},
     "output_type": "display_data"
    }
   ],
   "source": [
    "#What is the percentage of vehicles used by delivery persons\n",
    "plt.pie(restaurant_updated['Type_of_vehicle'].value_counts(), labels=restaurant_updated['Type_of_vehicle'].value_counts().head().index, autopct='%1.1f%%',\n",
    "        colors=['purple','grey', 'pink'],startangle=90)\n",
    "plt.legend();"
   ]
  },
  {
   "cell_type": "markdown",
   "id": "c0e97e55",
   "metadata": {},
   "source": [
    "Demographics of Delivery Persons"
   ]
  },
  {
   "cell_type": "code",
   "execution_count": 36,
   "id": "02d1c619",
   "metadata": {},
   "outputs": [
    {
     "data": {
      "text/plain": [
       "29.558449130308038"
      ]
     },
     "execution_count": 36,
     "metadata": {},
     "output_type": "execute_result"
    }
   ],
   "source": [
    "#Average Age of Delivery Persons\n",
    "restaurant_updated['Delivery_person_Age'].mean()"
   ]
  },
  {
   "cell_type": "code",
   "execution_count": 37,
   "id": "69c5e3a6",
   "metadata": {
    "scrolled": true
   },
   "outputs": [
    {
     "data": {
      "image/png": "[encoded data removed]",
      "text/plain": [
       "<Figure size 432x288 with 1 Axes>"
      ]
     },
     "metadata": {
      "needs_background": "light"
     },
     "output_type": "display_data"
    }
   ],
   "source": [
    "Age=restaurant['Delivery_person_Age'].value_counts()\n",
    "Age.plot(kind='bar',fontsize=10,title=\"Barchart Representation of age of the delevery persons\", color=\"purple\");"
   ]
  },
  {
   "cell_type": "markdown",
   "id": "13f3d116",
   "metadata": {},
   "source": [
    "Delivery persons are between the ages of 22-39, with most being 30years old"
   ]
  },
  {
   "cell_type": "code",
   "execution_count": 38,
   "id": "8d168694",
   "metadata": {
    "scrolled": true
   },
   "outputs": [
    {
     "data": {
      "image/png": "[encoded data removed]",
      "text/plain": [
       "<Figure size 432x288 with 1 Axes>"
      ]
     },
     "metadata": {
      "needs_background": "light"
     },
     "output_type": "display_data"
    }
   ],
   "source": [
    "#Ratings Distribution\n",
    "plt.hist(restaurant_updated['Delivery_person_Ratings'], color = 'purple');"
   ]
  },
  {
   "cell_type": "markdown",
   "id": "f39dafea",
   "metadata": {},
   "source": [
    "What time do people order most, is it affected by traffic?"
   ]
  },
  {
   "cell_type": "code",
   "execution_count": 39,
   "id": "3e39efc2",
   "metadata": {},
   "outputs": [
    {
     "data": {
      "text/plain": [
       "18:20    118\n",
       "23:30    116\n",
       "18:30    114\n",
       "23:60    113\n",
       "20:55    113\n",
       "        ... \n",
       "13:35     11\n",
       "13:60     11\n",
       "12:35     10\n",
       "13:25     10\n",
       "14:60     10\n",
       "Name: Time_Orderd, Length: 176, dtype: int64"
      ]
     },
     "execution_count": 39,
     "metadata": {},
     "output_type": "execute_result"
    }
   ],
   "source": [
    "restaurant['Time_Orderd'].value_counts()"
   ]
  },
  {
   "cell_type": "code",
   "execution_count": 40,
   "id": "5a8ff81a",
   "metadata": {},
   "outputs": [
    {
     "data": {
      "image/png": "[encoded data removed]",
      "text/plain": [
       "<Figure size 720x576 with 1 Axes>"
      ]
     },
     "metadata": {
      "needs_background": "light"
     },
     "output_type": "display_data"
    }
   ],
   "source": [
    "State_traffic_density=restaurant.groupby('Road_traffic_density')['Time_Orderd'].value_counts().sort_values(ascending=False).head(30)\n",
    "State_traffic_density.plot(x='Road_traffic_density',y='Time_Orderd',kind='box',figsize=(10,8), color = 'purple');"
   ]
  },
  {
   "cell_type": "markdown",
   "id": "c3a4368b",
   "metadata": {},
   "source": [
    "## Machine Learnine Scenario"
   ]
  },
  {
   "cell_type": "markdown",
   "id": "a9203656",
   "metadata": {},
   "source": [
    "Feature Selection:"
   ]
  },
  {
   "cell_type": "code",
   "execution_count": 41,
   "id": "6889bfb9",
   "metadata": {},
   "outputs": [
    {
     "data": {
      "text/html": [
       "<div>\n",
       "<style scoped>\n",
       "    .dataframe tbody tr th:only-of-type {\n",
       "        vertical-align: middle;\n",
       "    }\n",
       "\n",
       "    .dataframe tbody tr th {\n",
       "        vertical-align: top;\n",
       "    }\n",
       "\n",
       "    .dataframe thead th {\n",
       "        text-align: right;\n",
       "    }\n",
       "</style>\n",
       "<table border=\"1\" class=\"dataframe\">\n",
       "  <thead>\n",
       "    <tr style=\"text-align: right;\">\n",
       "      <th></th>\n",
       "      <th>Delivery_person_Age</th>\n",
       "      <th>Delivery_person_Ratings</th>\n",
       "      <th>Vehicle_condition</th>\n",
       "      <th>multiple_deliveries</th>\n",
       "      <th>distance_km</th>\n",
       "      <th>Time_taken(min)</th>\n",
       "    </tr>\n",
       "  </thead>\n",
       "  <tbody>\n",
       "    <tr>\n",
       "      <th>Delivery_person_Age</th>\n",
       "      <td>1.000000</td>\n",
       "      <td>-0.094697</td>\n",
       "      <td>-0.005912</td>\n",
       "      <td>0.113705</td>\n",
       "      <td>0.015522</td>\n",
       "      <td>0.002316</td>\n",
       "    </tr>\n",
       "    <tr>\n",
       "      <th>Delivery_person_Ratings</th>\n",
       "      <td>-0.094697</td>\n",
       "      <td>1.000000</td>\n",
       "      <td>0.045664</td>\n",
       "      <td>-0.128590</td>\n",
       "      <td>-0.000464</td>\n",
       "      <td>0.008305</td>\n",
       "    </tr>\n",
       "    <tr>\n",
       "      <th>Vehicle_condition</th>\n",
       "      <td>-0.005912</td>\n",
       "      <td>0.045664</td>\n",
       "      <td>1.000000</td>\n",
       "      <td>-0.120895</td>\n",
       "      <td>-0.002167</td>\n",
       "      <td>-0.000489</td>\n",
       "    </tr>\n",
       "    <tr>\n",
       "      <th>multiple_deliveries</th>\n",
       "      <td>0.113705</td>\n",
       "      <td>-0.128590</td>\n",
       "      <td>-0.120895</td>\n",
       "      <td>1.000000</td>\n",
       "      <td>0.013035</td>\n",
       "      <td>0.006076</td>\n",
       "    </tr>\n",
       "    <tr>\n",
       "      <th>distance_km</th>\n",
       "      <td>0.015522</td>\n",
       "      <td>-0.000464</td>\n",
       "      <td>-0.002167</td>\n",
       "      <td>0.013035</td>\n",
       "      <td>1.000000</td>\n",
       "      <td>-0.002006</td>\n",
       "    </tr>\n",
       "    <tr>\n",
       "      <th>Time_taken(min)</th>\n",
       "      <td>0.002316</td>\n",
       "      <td>0.008305</td>\n",
       "      <td>-0.000489</td>\n",
       "      <td>0.006076</td>\n",
       "      <td>-0.002006</td>\n",
       "      <td>1.000000</td>\n",
       "    </tr>\n",
       "  </tbody>\n",
       "</table>\n",
       "</div>"
      ],
      "text/plain": [
       "                         Delivery_person_Age  Delivery_person_Ratings  \\\n",
       "Delivery_person_Age                 1.000000                -0.094697   \n",
       "Delivery_person_Ratings            -0.094697                 1.000000   \n",
       "Vehicle_condition                  -0.005912                 0.045664   \n",
       "multiple_deliveries                 0.113705                -0.128590   \n",
       "distance_km                         0.015522                -0.000464   \n",
       "Time_taken(min)                     0.002316                 0.008305   \n",
       "\n",
       "                         Vehicle_condition  multiple_deliveries  distance_km  \\\n",
       "Delivery_person_Age              -0.005912             0.113705     0.015522   \n",
       "Delivery_person_Ratings           0.045664            -0.128590    -0.000464   \n",
       "Vehicle_condition                 1.000000            -0.120895    -0.002167   \n",
       "multiple_deliveries              -0.120895             1.000000     0.013035   \n",
       "distance_km                      -0.002167             0.013035     1.000000   \n",
       "Time_taken(min)                  -0.000489             0.006076    -0.002006   \n",
       "\n",
       "                         Time_taken(min)  \n",
       "Delivery_person_Age             0.002316  \n",
       "Delivery_person_Ratings         0.008305  \n",
       "Vehicle_condition              -0.000489  \n",
       "multiple_deliveries             0.006076  \n",
       "distance_km                    -0.002006  \n",
       "Time_taken(min)                 1.000000  "
      ]
     },
     "execution_count": 41,
     "metadata": {},
     "output_type": "execute_result"
    }
   ],
   "source": [
    "#Correlation to check for multicolinearity among our input variables\n",
    "restaurant_updated.corr()"
   ]
  },
  {
   "cell_type": "code",
   "execution_count": 42,
   "id": "5a20131d",
   "metadata": {
    "scrolled": true
   },
   "outputs": [
    {
     "data": {
      "image/png": "[encoded data removed]",
      "text/plain": [
       "<Figure size 1080x1080 with 2 Axes>"
      ]
     },
     "metadata": {
      "needs_background": "light"
     },
     "output_type": "display_data"
    }
   ],
   "source": [
    "#Heatmap showing the correlation\n",
    "fig, ax = plt.subplots(figsize=(15,15))\n",
    "sns.heatmap(restaurant_updated.corr(), annot=True, linewidths=.5, ax=ax);"
   ]
  },
  {
   "cell_type": "markdown",
   "id": "9912181a",
   "metadata": {},
   "source": [
    "Dropping some columns"
   ]
  },
  {
   "cell_type": "code",
   "execution_count": 43,
   "id": "d9af3b83",
   "metadata": {},
   "outputs": [
    {
     "data": {
      "text/html": [
       "<div>\n",
       "<style scoped>\n",
       "    .dataframe tbody tr th:only-of-type {\n",
       "        vertical-align: middle;\n",
       "    }\n",
       "\n",
       "    .dataframe tbody tr th {\n",
       "        vertical-align: top;\n",
       "    }\n",
       "\n",
       "    .dataframe thead th {\n",
       "        text-align: right;\n",
       "    }\n",
       "</style>\n",
       "<table border=\"1\" class=\"dataframe\">\n",
       "  <thead>\n",
       "    <tr style=\"text-align: right;\">\n",
       "      <th></th>\n",
       "      <th>Delivery_person_Age</th>\n",
       "      <th>Delivery_person_Ratings</th>\n",
       "      <th>Weather</th>\n",
       "      <th>Road_traffic_density</th>\n",
       "      <th>Vehicle_condition</th>\n",
       "      <th>Type_of_order</th>\n",
       "      <th>Type_of_vehicle</th>\n",
       "      <th>multiple_deliveries</th>\n",
       "      <th>distance_km</th>\n",
       "      <th>Time_taken(min)</th>\n",
       "    </tr>\n",
       "  </thead>\n",
       "  <tbody>\n",
       "    <tr>\n",
       "      <th>1</th>\n",
       "      <td>28.0</td>\n",
       "      <td>4.6</td>\n",
       "      <td>Windy</td>\n",
       "      <td>Jam</td>\n",
       "      <td>0</td>\n",
       "      <td>Snack</td>\n",
       "      <td>motorcycle</td>\n",
       "      <td>1.0</td>\n",
       "      <td>17.076617</td>\n",
       "      <td>5.0</td>\n",
       "    </tr>\n",
       "    <tr>\n",
       "      <th>2</th>\n",
       "      <td>23.0</td>\n",
       "      <td>4.5</td>\n",
       "      <td>Stormy</td>\n",
       "      <td>Jam</td>\n",
       "      <td>0</td>\n",
       "      <td>Drinks</td>\n",
       "      <td>motorcycle</td>\n",
       "      <td>1.0</td>\n",
       "      <td>13.406029</td>\n",
       "      <td>10.0</td>\n",
       "    </tr>\n",
       "    <tr>\n",
       "      <th>3</th>\n",
       "      <td>21.0</td>\n",
       "      <td>4.8</td>\n",
       "      <td>Fog</td>\n",
       "      <td>Medium</td>\n",
       "      <td>1</td>\n",
       "      <td>Meal</td>\n",
       "      <td>scooter</td>\n",
       "      <td>1.0</td>\n",
       "      <td>13.413644</td>\n",
       "      <td>5.0</td>\n",
       "    </tr>\n",
       "    <tr>\n",
       "      <th>4</th>\n",
       "      <td>31.0</td>\n",
       "      <td>4.6</td>\n",
       "      <td>Sunny</td>\n",
       "      <td>Medium</td>\n",
       "      <td>2</td>\n",
       "      <td>Drinks</td>\n",
       "      <td>scooter</td>\n",
       "      <td>1.0</td>\n",
       "      <td>17.076259</td>\n",
       "      <td>15.0</td>\n",
       "    </tr>\n",
       "    <tr>\n",
       "      <th>5</th>\n",
       "      <td>26.0</td>\n",
       "      <td>4.7</td>\n",
       "      <td>Fog</td>\n",
       "      <td>Low</td>\n",
       "      <td>0</td>\n",
       "      <td>Drinks</td>\n",
       "      <td>motorcycle</td>\n",
       "      <td>1.0</td>\n",
       "      <td>1.543933</td>\n",
       "      <td>10.0</td>\n",
       "    </tr>\n",
       "  </tbody>\n",
       "</table>\n",
       "</div>"
      ],
      "text/plain": [
       "   Delivery_person_Age  Delivery_person_Ratings Weather Road_traffic_density  \\\n",
       "1                 28.0                      4.6   Windy                  Jam   \n",
       "2                 23.0                      4.5  Stormy                  Jam   \n",
       "3                 21.0                      4.8     Fog               Medium   \n",
       "4                 31.0                      4.6   Sunny               Medium   \n",
       "5                 26.0                      4.7     Fog                  Low   \n",
       "\n",
       "   Vehicle_condition Type_of_order Type_of_vehicle  multiple_deliveries  \\\n",
       "1                  0         Snack      motorcycle                  1.0   \n",
       "2                  0        Drinks      motorcycle                  1.0   \n",
       "3                  1          Meal         scooter                  1.0   \n",
       "4                  2        Drinks         scooter                  1.0   \n",
       "5                  0        Drinks      motorcycle                  1.0   \n",
       "\n",
       "   distance_km  Time_taken(min)  \n",
       "1    17.076617              5.0  \n",
       "2    13.406029             10.0  \n",
       "3    13.413644              5.0  \n",
       "4    17.076259             15.0  \n",
       "5     1.543933             10.0  "
      ]
     },
     "execution_count": 43,
     "metadata": {},
     "output_type": "execute_result"
    }
   ],
   "source": [
    "restaurant_delivery=restaurant.drop(['ID','Delivery_person_ID','Festival','City','Name:','Restaurant_latitude','Restaurant_longitude','Delivery_location_latitude','Delivery_location_longitude','Order_Date','Time_Orderd','Time_Order_picked','Months','Days'],axis='columns')\n",
    "restaurant_delivery.head()"
   ]
  },
  {
   "cell_type": "markdown",
   "id": "c335e18d",
   "metadata": {},
   "source": [
    "Encoding the string columns using label encoder"
   ]
  },
  {
   "cell_type": "code",
   "execution_count": 44,
   "id": "ad77811e",
   "metadata": {},
   "outputs": [],
   "source": [
    "from sklearn.preprocessing import LabelEncoder\n",
    "\n",
    "le_Type_of_order=LabelEncoder()\n",
    "le_Type_of_vehicle=LabelEncoder()\n",
    "le_Weather=LabelEncoder()\n",
    "le_Traffic=LabelEncoder()"
   ]
  },
  {
   "cell_type": "code",
   "execution_count": 45,
   "id": "f4a811c9",
   "metadata": {},
   "outputs": [],
   "source": [
    "restaurant_delivery['Type_of_order']=le_Type_of_order.fit_transform(restaurant_delivery['Type_of_order'])\n",
    "restaurant_delivery['Type_of_vehicle']=le_Type_of_vehicle.fit_transform(restaurant_delivery['Type_of_vehicle'])\n",
    "restaurant_delivery['Weather']=le_Type_of_order.fit_transform(restaurant_delivery['Weather'])\n",
    "restaurant_delivery['Road_traffic_density']=le_Type_of_order.fit_transform(restaurant_delivery['Road_traffic_density'])"
   ]
  },
  {
   "cell_type": "code",
   "execution_count": 46,
   "id": "4e56102c",
   "metadata": {},
   "outputs": [
    {
     "data": {
      "text/html": [
       "<div>\n",
       "<style scoped>\n",
       "    .dataframe tbody tr th:only-of-type {\n",
       "        vertical-align: middle;\n",
       "    }\n",
       "\n",
       "    .dataframe tbody tr th {\n",
       "        vertical-align: top;\n",
       "    }\n",
       "\n",
       "    .dataframe thead th {\n",
       "        text-align: right;\n",
       "    }\n",
       "</style>\n",
       "<table border=\"1\" class=\"dataframe\">\n",
       "  <thead>\n",
       "    <tr style=\"text-align: right;\">\n",
       "      <th></th>\n",
       "      <th>Delivery_person_Age</th>\n",
       "      <th>Delivery_person_Ratings</th>\n",
       "      <th>Weather</th>\n",
       "      <th>Road_traffic_density</th>\n",
       "      <th>Vehicle_condition</th>\n",
       "      <th>Type_of_order</th>\n",
       "      <th>Type_of_vehicle</th>\n",
       "      <th>multiple_deliveries</th>\n",
       "      <th>distance_km</th>\n",
       "      <th>Time_taken(min)</th>\n",
       "    </tr>\n",
       "  </thead>\n",
       "  <tbody>\n",
       "    <tr>\n",
       "      <th>1</th>\n",
       "      <td>28.0</td>\n",
       "      <td>4.6</td>\n",
       "      <td>5</td>\n",
       "      <td>1</td>\n",
       "      <td>0</td>\n",
       "      <td>3</td>\n",
       "      <td>1</td>\n",
       "      <td>1.0</td>\n",
       "      <td>17.076617</td>\n",
       "      <td>5.0</td>\n",
       "    </tr>\n",
       "    <tr>\n",
       "      <th>2</th>\n",
       "      <td>23.0</td>\n",
       "      <td>4.5</td>\n",
       "      <td>3</td>\n",
       "      <td>1</td>\n",
       "      <td>0</td>\n",
       "      <td>1</td>\n",
       "      <td>1</td>\n",
       "      <td>1.0</td>\n",
       "      <td>13.406029</td>\n",
       "      <td>10.0</td>\n",
       "    </tr>\n",
       "    <tr>\n",
       "      <th>3</th>\n",
       "      <td>21.0</td>\n",
       "      <td>4.8</td>\n",
       "      <td>1</td>\n",
       "      <td>3</td>\n",
       "      <td>1</td>\n",
       "      <td>2</td>\n",
       "      <td>2</td>\n",
       "      <td>1.0</td>\n",
       "      <td>13.413644</td>\n",
       "      <td>5.0</td>\n",
       "    </tr>\n",
       "    <tr>\n",
       "      <th>4</th>\n",
       "      <td>31.0</td>\n",
       "      <td>4.6</td>\n",
       "      <td>4</td>\n",
       "      <td>3</td>\n",
       "      <td>2</td>\n",
       "      <td>1</td>\n",
       "      <td>2</td>\n",
       "      <td>1.0</td>\n",
       "      <td>17.076259</td>\n",
       "      <td>15.0</td>\n",
       "    </tr>\n",
       "    <tr>\n",
       "      <th>5</th>\n",
       "      <td>26.0</td>\n",
       "      <td>4.7</td>\n",
       "      <td>1</td>\n",
       "      <td>2</td>\n",
       "      <td>0</td>\n",
       "      <td>1</td>\n",
       "      <td>1</td>\n",
       "      <td>1.0</td>\n",
       "      <td>1.543933</td>\n",
       "      <td>10.0</td>\n",
       "    </tr>\n",
       "  </tbody>\n",
       "</table>\n",
       "</div>"
      ],
      "text/plain": [
       "   Delivery_person_Age  Delivery_person_Ratings  Weather  \\\n",
       "1                 28.0                      4.6        5   \n",
       "2                 23.0                      4.5        3   \n",
       "3                 21.0                      4.8        1   \n",
       "4                 31.0                      4.6        4   \n",
       "5                 26.0                      4.7        1   \n",
       "\n",
       "   Road_traffic_density  Vehicle_condition  Type_of_order  Type_of_vehicle  \\\n",
       "1                     1                  0              3                1   \n",
       "2                     1                  0              1                1   \n",
       "3                     3                  1              2                2   \n",
       "4                     3                  2              1                2   \n",
       "5                     2                  0              1                1   \n",
       "\n",
       "   multiple_deliveries  distance_km  Time_taken(min)  \n",
       "1                  1.0    17.076617              5.0  \n",
       "2                  1.0    13.406029             10.0  \n",
       "3                  1.0    13.413644              5.0  \n",
       "4                  1.0    17.076259             15.0  \n",
       "5                  1.0     1.543933             10.0  "
      ]
     },
     "execution_count": 46,
     "metadata": {},
     "output_type": "execute_result"
    }
   ],
   "source": [
    "restaurant_delivery.head()"
   ]
  },
  {
   "cell_type": "code",
   "execution_count": 47,
   "id": "d82c7a78",
   "metadata": {},
   "outputs": [
    {
     "data": {
      "image/png": "[encoded data removed]",
      "text/plain": [
       "<Figure size 1800x1800 with 110 Axes>"
      ]
     },
     "metadata": {
      "needs_background": "light"
     },
     "output_type": "display_data"
    }
   ],
   "source": [
    "sns.pairplot(restaurant_delivery, kind='scatter');"
   ]
  },
  {
   "cell_type": "markdown",
   "id": "87c003a6",
   "metadata": {},
   "source": [
    "The problem originally seemed to be suited for a linear regression problem, since Time_Taken(minutes) would have been presumed to be a continous variable, however, the pairplot shows something different, the relationship is not linear."
   ]
  },
  {
   "cell_type": "code",
   "execution_count": 48,
   "id": "0a93a70e",
   "metadata": {},
   "outputs": [
    {
     "data": {
      "text/plain": [
       "10.0    4764\n",
       "5.0     2771\n",
       "15.0    2756\n",
       "Name: Time_taken(min), dtype: int64"
      ]
     },
     "execution_count": 48,
     "metadata": {},
     "output_type": "execute_result"
    }
   ],
   "source": [
    "restaurant_delivery['Time_taken(min)'].value_counts()"
   ]
  },
  {
   "cell_type": "markdown",
   "id": "befedd2b",
   "metadata": {},
   "source": [
    "Probing further, I realizes that there are only 3 possible values for timetaken-5, 10, 15minutes, hence the reason for the plots. This implies a classifiction model like Decision Trees or Logistic Regression\n",
    "\n",
    "Also, to avoid issues with fitting a continous model into a classifier, the Time_taken(mins) column will be converted to int since the decimals are .0, hence no value will be lost"
   ]
  },
  {
   "cell_type": "code",
   "execution_count": 49,
   "id": "dc7eeb88",
   "metadata": {},
   "outputs": [],
   "source": [
    "restaurant_delivery['Time_taken(min)']=restaurant_delivery['Time_taken(min)'].astype(int)"
   ]
  },
  {
   "cell_type": "markdown",
   "id": "248c4127",
   "metadata": {},
   "source": [
    "Buliding the Model"
   ]
  },
  {
   "cell_type": "code",
   "execution_count": 50,
   "id": "1bc6db5a",
   "metadata": {},
   "outputs": [],
   "source": [
    "x=restaurant_delivery.drop(['Time_taken(min)'], axis='columns')\n",
    "y=restaurant_delivery['Time_taken(min)']"
   ]
  },
  {
   "cell_type": "code",
   "execution_count": 51,
   "id": "64e08476",
   "metadata": {},
   "outputs": [
    {
     "data": {
      "text/plain": [
       "0"
      ]
     },
     "execution_count": 51,
     "metadata": {},
     "output_type": "execute_result"
    }
   ],
   "source": [
    "y.isnull().sum()"
   ]
  },
  {
   "cell_type": "markdown",
   "id": "511e96d2",
   "metadata": {},
   "source": [
    "Splitting into test and train"
   ]
  },
  {
   "cell_type": "code",
   "execution_count": 52,
   "id": "d1d195b2",
   "metadata": {},
   "outputs": [],
   "source": [
    "from sklearn.model_selection import train_test_split\n",
    "from sklearn.metrics import plot_confusion_matrix\n",
    "x_train, x_test, y_train, y_test = train_test_split(x, y, train_size=0.8)"
   ]
  },
  {
   "cell_type": "markdown",
   "id": "dd97052c",
   "metadata": {},
   "source": [
    "Multinomial Logistic Regression"
   ]
  },
  {
   "cell_type": "code",
   "execution_count": 54,
   "id": "aa363e37",
   "metadata": {},
   "outputs": [],
   "source": [
    "from sklearn.linear_model import LogisticRegression\n",
    "logisticReg = LogisticRegression(random_state=0, multi_class='multinomial', penalty='none', solver='newton-cg').fit(x_train, y_train)"
   ]
  },
  {
   "cell_type": "code",
   "execution_count": 55,
   "id": "cdf4b739",
   "metadata": {},
   "outputs": [],
   "source": [
    "pred = logisticReg.predict(x_test)"
   ]
  },
  {
   "cell_type": "markdown",
   "id": "fd14ac3b",
   "metadata": {},
   "source": [
    "Checking for the accuracy"
   ]
  },
  {
   "cell_type": "code",
   "execution_count": 56,
   "id": "c95960cc",
   "metadata": {},
   "outputs": [
    {
     "data": {
      "text/plain": [
       "0.45798931520155417"
      ]
     },
     "execution_count": 56,
     "metadata": {},
     "output_type": "execute_result"
    }
   ],
   "source": [
    "logisticReg.score(x_test, y_test)"
   ]
  },
  {
   "cell_type": "code",
   "execution_count": 57,
   "id": "0e132b2c",
   "metadata": {},
   "outputs": [],
   "source": [
    "from sklearn import tree\n",
    "model=tree.DecisionTreeClassifier(criterion=\"entropy\",max_depth=3)"
   ]
  },
  {
   "cell_type": "code",
   "execution_count": 58,
   "id": "257d9c52",
   "metadata": {
    "scrolled": true
   },
   "outputs": [
    {
     "data": {
      "text/html": [
       "<style>#sk-container-id-1 {color: black;background-color: white;}#sk-container-id-1 pre{padding: 0;}#sk-container-id-1 div.sk-toggleable {background-color: white;}#sk-container-id-1 label.sk-toggleable__label {cursor: pointer;display: block;width: 100%;margin-bottom: 0;padding: 0.3em;box-sizing: border-box;text-align: center;}#sk-container-id-1 label.sk-toggleable__label-arrow:before {content: \"▸\";float: left;margin-right: 0.25em;color: #696969;}#sk-container-id-1 label.sk-toggleable__label-arrow:hover:before {color: black;}#sk-container-id-1 div.sk-estimator:hover label.sk-toggleable__label-arrow:before {color: black;}#sk-container-id-1 div.sk-toggleable__content {max-height: 0;max-width: 0;overflow: hidden;text-align: left;background-color: #f0f8ff;}#sk-container-id-1 div.sk-toggleable__content pre {margin: 0.2em;color: black;border-radius: 0.25em;background-color: #f0f8ff;}#sk-container-id-1 input.sk-toggleable__control:checked~div.sk-toggleable__content {max-height: 200px;max-width: 100%;overflow: auto;}#sk-container-id-1 input.sk-toggleable__control:checked~label.sk-toggleable__label-arrow:before {content: \"▾\";}#sk-container-id-1 div.sk-estimator input.sk-toggleable__control:checked~label.sk-toggleable__label {background-color: #d4ebff;}#sk-container-id-1 div.sk-label input.sk-toggleable__control:checked~label.sk-toggleable__label {background-color: #d4ebff;}#sk-container-id-1 input.sk-hidden--visually {border: 0;clip: rect(1px 1px 1px 1px);clip: rect(1px, 1px, 1px, 1px);height: 1px;margin: -1px;overflow: hidden;padding: 0;position: absolute;width: 1px;}#sk-container-id-1 div.sk-estimator {font-family: monospace;background-color: #f0f8ff;border: 1px dotted black;border-radius: 0.25em;box-sizing: border-box;margin-bottom: 0.5em;}#sk-container-id-1 div.sk-estimator:hover {background-color: #d4ebff;}#sk-container-id-1 div.sk-parallel-item::after {content: \"\";width: 100%;border-bottom: 1px solid gray;flex-grow: 1;}#sk-container-id-1 div.sk-label:hover label.sk-toggleable__label {background-color: #d4ebff;}#sk-container-id-1 div.sk-serial::before {content: \"\";position: absolute;border-left: 1px solid gray;box-sizing: border-box;top: 0;bottom: 0;left: 50%;z-index: 0;}#sk-container-id-1 div.sk-serial {display: flex;flex-direction: column;align-items: center;background-color: white;padding-right: 0.2em;padding-left: 0.2em;position: relative;}#sk-container-id-1 div.sk-item {position: relative;z-index: 1;}#sk-container-id-1 div.sk-parallel {display: flex;align-items: stretch;justify-content: center;background-color: white;position: relative;}#sk-container-id-1 div.sk-item::before, #sk-container-id-1 div.sk-parallel-item::before {content: \"\";position: absolute;border-left: 1px solid gray;box-sizing: border-box;top: 0;bottom: 0;left: 50%;z-index: -1;}#sk-container-id-1 div.sk-parallel-item {display: flex;flex-direction: column;z-index: 1;position: relative;background-color: white;}#sk-container-id-1 div.sk-parallel-item:first-child::after {align-self: flex-end;width: 50%;}#sk-container-id-1 div.sk-parallel-item:last-child::after {align-self: flex-start;width: 50%;}#sk-container-id-1 div.sk-parallel-item:only-child::after {width: 0;}#sk-container-id-1 div.sk-dashed-wrapped {border: 1px dashed gray;margin: 0 0.4em 0.5em 0.4em;box-sizing: border-box;padding-bottom: 0.4em;background-color: white;}#sk-container-id-1 div.sk-label label {font-family: monospace;font-weight: bold;display: inline-block;line-height: 1.2em;}#sk-container-id-1 div.sk-label-container {text-align: center;}#sk-container-id-1 div.sk-container {/* jupyter's `normalize.less` sets `[hidden] { display: none; }` but bootstrap.min.css set `[hidden] { display: none !important; }` so we also need the `!important` here to be able to override the default hidden behavior on the sphinx rendered scikit-learn.org. See: https://github.com/scikit-learn/scikit-learn/issues/21755 */display: inline-block !important;position: relative;}#sk-container-id-1 div.sk-text-repr-fallback {display: none;}</style><div id=\"sk-container-id-1\" class=\"sk-top-container\"><div class=\"sk-text-repr-fallback\"><pre>DecisionTreeClassifier(criterion=&#x27;entropy&#x27;, max_depth=3)</pre><b>In a Jupyter environment, please rerun this cell to show the HTML representation or trust the notebook. <br />On GitHub, the HTML representation is unable to render, please try loading this page with nbviewer.org.</b></div><div class=\"sk-container\" hidden><div class=\"sk-item\"><div class=\"sk-estimator sk-toggleable\"><input class=\"sk-toggleable__control sk-hidden--visually\" id=\"sk-estimator-id-1\" type=\"checkbox\" checked><label for=\"sk-estimator-id-1\" class=\"sk-toggleable__label sk-toggleable__label-arrow\">DecisionTreeClassifier</label><div class=\"sk-toggleable__content\"><pre>DecisionTreeClassifier(criterion=&#x27;entropy&#x27;, max_depth=3)</pre></div></div></div></div></div>"
      ],
      "text/plain": [
       "DecisionTreeClassifier(criterion='entropy', max_depth=3)"
      ]
     },
     "execution_count": 58,
     "metadata": {},
     "output_type": "execute_result"
    }
   ],
   "source": [
    "model.fit(x_train, y_train)"
   ]
  },
  {
   "cell_type": "code",
   "execution_count": 59,
   "id": "eab0ea7a",
   "metadata": {},
   "outputs": [],
   "source": [
    "y_pred = model.predict(x_test)"
   ]
  },
  {
   "cell_type": "code",
   "execution_count": 60,
   "id": "a78051f5",
   "metadata": {},
   "outputs": [
    {
     "data": {
      "text/plain": [
       "0.455560951918407"
      ]
     },
     "execution_count": 60,
     "metadata": {},
     "output_type": "execute_result"
    }
   ],
   "source": [
    "model.score(x_test,y_test)"
   ]
  },
  {
   "cell_type": "markdown",
   "id": "b6419698",
   "metadata": {},
   "source": [
    "Using Smote to see if there will be an increase in accuracy"
   ]
  },
  {
   "cell_type": "code",
   "execution_count": 61,
   "id": "190404ac",
   "metadata": {},
   "outputs": [],
   "source": [
    "from imblearn.over_sampling import SMOTE\n",
    "sm = SMOTE(random_state=42)\n",
    "x_smote, y_smote = sm.fit_resample(x_train, y_train)"
   ]
  },
  {
   "cell_type": "code",
   "execution_count": 62,
   "id": "44e97fa8",
   "metadata": {},
   "outputs": [
    {
     "data": {
      "text/html": [
       "<style>#sk-container-id-2 {color: black;background-color: white;}#sk-container-id-2 pre{padding: 0;}#sk-container-id-2 div.sk-toggleable {background-color: white;}#sk-container-id-2 label.sk-toggleable__label {cursor: pointer;display: block;width: 100%;margin-bottom: 0;padding: 0.3em;box-sizing: border-box;text-align: center;}#sk-container-id-2 label.sk-toggleable__label-arrow:before {content: \"▸\";float: left;margin-right: 0.25em;color: #696969;}#sk-container-id-2 label.sk-toggleable__label-arrow:hover:before {color: black;}#sk-container-id-2 div.sk-estimator:hover label.sk-toggleable__label-arrow:before {color: black;}#sk-container-id-2 div.sk-toggleable__content {max-height: 0;max-width: 0;overflow: hidden;text-align: left;background-color: #f0f8ff;}#sk-container-id-2 div.sk-toggleable__content pre {margin: 0.2em;color: black;border-radius: 0.25em;background-color: #f0f8ff;}#sk-container-id-2 input.sk-toggleable__control:checked~div.sk-toggleable__content {max-height: 200px;max-width: 100%;overflow: auto;}#sk-container-id-2 input.sk-toggleable__control:checked~label.sk-toggleable__label-arrow:before {content: \"▾\";}#sk-container-id-2 div.sk-estimator input.sk-toggleable__control:checked~label.sk-toggleable__label {background-color: #d4ebff;}#sk-container-id-2 div.sk-label input.sk-toggleable__control:checked~label.sk-toggleable__label {background-color: #d4ebff;}#sk-container-id-2 input.sk-hidden--visually {border: 0;clip: rect(1px 1px 1px 1px);clip: rect(1px, 1px, 1px, 1px);height: 1px;margin: -1px;overflow: hidden;padding: 0;position: absolute;width: 1px;}#sk-container-id-2 div.sk-estimator {font-family: monospace;background-color: #f0f8ff;border: 1px dotted black;border-radius: 0.25em;box-sizing: border-box;margin-bottom: 0.5em;}#sk-container-id-2 div.sk-estimator:hover {background-color: #d4ebff;}#sk-container-id-2 div.sk-parallel-item::after {content: \"\";width: 100%;border-bottom: 1px solid gray;flex-grow: 1;}#sk-container-id-2 div.sk-label:hover label.sk-toggleable__label {background-color: #d4ebff;}#sk-container-id-2 div.sk-serial::before {content: \"\";position: absolute;border-left: 1px solid gray;box-sizing: border-box;top: 0;bottom: 0;left: 50%;z-index: 0;}#sk-container-id-2 div.sk-serial {display: flex;flex-direction: column;align-items: center;background-color: white;padding-right: 0.2em;padding-left: 0.2em;position: relative;}#sk-container-id-2 div.sk-item {position: relative;z-index: 1;}#sk-container-id-2 div.sk-parallel {display: flex;align-items: stretch;justify-content: center;background-color: white;position: relative;}#sk-container-id-2 div.sk-item::before, #sk-container-id-2 div.sk-parallel-item::before {content: \"\";position: absolute;border-left: 1px solid gray;box-sizing: border-box;top: 0;bottom: 0;left: 50%;z-index: -1;}#sk-container-id-2 div.sk-parallel-item {display: flex;flex-direction: column;z-index: 1;position: relative;background-color: white;}#sk-container-id-2 div.sk-parallel-item:first-child::after {align-self: flex-end;width: 50%;}#sk-container-id-2 div.sk-parallel-item:last-child::after {align-self: flex-start;width: 50%;}#sk-container-id-2 div.sk-parallel-item:only-child::after {width: 0;}#sk-container-id-2 div.sk-dashed-wrapped {border: 1px dashed gray;margin: 0 0.4em 0.5em 0.4em;box-sizing: border-box;padding-bottom: 0.4em;background-color: white;}#sk-container-id-2 div.sk-label label {font-family: monospace;font-weight: bold;display: inline-block;line-height: 1.2em;}#sk-container-id-2 div.sk-label-container {text-align: center;}#sk-container-id-2 div.sk-container {/* jupyter's `normalize.less` sets `[hidden] { display: none; }` but bootstrap.min.css set `[hidden] { display: none !important; }` so we also need the `!important` here to be able to override the default hidden behavior on the sphinx rendered scikit-learn.org. See: https://github.com/scikit-learn/scikit-learn/issues/21755 */display: inline-block !important;position: relative;}#sk-container-id-2 div.sk-text-repr-fallback {display: none;}</style><div id=\"sk-container-id-2\" class=\"sk-top-container\"><div class=\"sk-text-repr-fallback\"><pre>DecisionTreeClassifier(criterion=&#x27;entropy&#x27;, max_depth=3)</pre><b>In a Jupyter environment, please rerun this cell to show the HTML representation or trust the notebook. <br />On GitHub, the HTML representation is unable to render, please try loading this page with nbviewer.org.</b></div><div class=\"sk-container\" hidden><div class=\"sk-item\"><div class=\"sk-estimator sk-toggleable\"><input class=\"sk-toggleable__control sk-hidden--visually\" id=\"sk-estimator-id-2\" type=\"checkbox\" checked><label for=\"sk-estimator-id-2\" class=\"sk-toggleable__label sk-toggleable__label-arrow\">DecisionTreeClassifier</label><div class=\"sk-toggleable__content\"><pre>DecisionTreeClassifier(criterion=&#x27;entropy&#x27;, max_depth=3)</pre></div></div></div></div></div>"
      ],
      "text/plain": [
       "DecisionTreeClassifier(criterion='entropy', max_depth=3)"
      ]
     },
     "execution_count": 62,
     "metadata": {},
     "output_type": "execute_result"
    }
   ],
   "source": [
    "model.fit(x_smote, y_smote)"
   ]
  },
  {
   "cell_type": "code",
   "execution_count": 63,
   "id": "0e5586c3",
   "metadata": {},
   "outputs": [],
   "source": [
    "y_pred = model.predict(x_test)"
   ]
  },
  {
   "cell_type": "code",
   "execution_count": 64,
   "id": "8a71291d",
   "metadata": {},
   "outputs": [
    {
     "data": {
      "text/plain": [
       "0.34045653229723166"
      ]
     },
     "execution_count": 64,
     "metadata": {},
     "output_type": "execute_result"
    }
   ],
   "source": [
    "model.score(x_test,y_test)"
   ]
  },
  {
   "cell_type": "markdown",
   "id": "90d6fad8",
   "metadata": {},
   "source": [
    "The accuracy score is even lower with smote.\n",
    "\n",
    "Trying Support Vector Machine(SVM) to see if the accuracy will increase"
   ]
  },
  {
   "cell_type": "code",
   "execution_count": 71,
   "id": "e8fe7007",
   "metadata": {},
   "outputs": [
    {
     "data": {
      "image/png": "[encoded data removed]",
      "text/plain": [
       "<Figure size 432x288 with 2 Axes>"
      ]
     },
     "metadata": {
      "needs_background": "light"
     },
     "output_type": "display_data"
    }
   ],
   "source": [
    "from sklearn.metrics import plot_confusion_matrix\n",
    "sns.heatmap(confusion_matrix(y_test, y_pred), annot=True);"
   ]
  },
  {
   "cell_type": "code",
   "execution_count": null,
   "id": "0420dd8c",
   "metadata": {},
   "outputs": [],
   "source": [
    "from sklearn.svm import SVC\n",
    "from sklearn.metrics import accuracy_score\n",
    "clf = SVC(kernel='linear')\n",
    "clf.fit(x_train,y_train)\n",
    "y_pred = clf.predict(x_test)\n",
    "print(accuracy_score(y_test,y_pred))"
   ]
  },
  {
   "cell_type": "code",
   "execution_count": null,
   "id": "5bd97a03",
   "metadata": {},
   "outputs": [],
   "source": []
  }
 ],
 "metadata": {
  "kernelspec": {
   "display_name": "Python 3 (ipykernel)",
   "language": "python",
   "name": "python3"
  },
  "language_info": {
   "codemirror_mode": {
    "name": "ipython",
    "version": 3
   },
   "file_extension": ".py",
   "mimetype": "text/x-python",
   "name": "python",
   "nbconvert_exporter": "python",
   "pygments_lexer": "ipython3",
   "version": "3.9.7"
  }
 },
 "nbformat": 4,
 "nbformat_minor": 5
}
